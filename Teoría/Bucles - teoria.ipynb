{
 "cells": [
  {
   "cell_type": "markdown",
   "metadata": {},
   "source": [
    "# <center>**03 - BUCLES**</center>"
   ]
  },
  {
   "cell_type": "markdown",
   "metadata": {},
   "source": [
    "Anteriormente trabajamos con estructuras de control condicionales, que nos permiten ejecutar un bloque de código si se cumple una condición. En este notebook vamos a ver las estructuras de control iterativas."
   ]
  },
  {
   "cell_type": "markdown",
   "metadata": {},
   "source": [
    "## 1. Estructuras iterativas\n",
    "\n",
    "Las estructuras iterativas nos permiten ejecutar un bloque de código varias veces o de forma indefinida. En Python, las estructuras iterativas se implementan mediante las palabras clave `for` y `while`."
   ]
  },
  {
   "cell_type": "markdown",
   "metadata": {},
   "source": [
    "### 1.1 Bucle `for`\n",
    "\n",
    "El bucle `for` nos permite iterar sobre una secuencia de valores. La sintaxis es la siguiente:\n",
    "\n",
    "```python\n",
    "for variable in secuencia:\n",
    "    # Código a ejecutar\n",
    "```\n",
    "\n",
    "La **variable toma el valor de cada elemento de la secuencia**, y se ejecuta el bloque de código. Cuando se termina de ejecutar el bloque de código, se vuelve a ejecutar el bucle con el siguiente elemento de la secuencia, y así sucesivamente hasta que se termina la secuencia.\n",
    "\n",
    "A diferencia de otros lenguajes, en Python no es necesario definir la secuencia de valores sobre la que se itera. En lugar de eso, se utiliza la función `range()` para generar una secuencia de números enteros. La sintaxis de la función `range()` es la siguiente:\n",
    "\n",
    "```python\n",
    "range([start], stop[, step])\n",
    "```\n",
    "\n",
    "Los parámetros de la función son los siguientes:\n",
    "\n",
    "- `start`: valor inicial de la secuencia. Si no se especifica, se asume 0.\n",
    "- `stop`: valor final de la secuencia. **Este valor no se incluye**.\n",
    "- `step`: incremento de la secuencia. Si no se especifica, se asume 1.\n",
    "\n",
    "Veamos algunos ejemplos:"
   ]
  },
  {
   "cell_type": "code",
   "execution_count": 2,
   "metadata": {},
   "outputs": [
    {
     "name": "stdout",
     "output_type": "stream",
     "text": [
      "0\n",
      "2\n",
      "4\n",
      "6\n",
      "8\n",
      "10\n"
     ]
    }
   ],
   "source": [
    "for numero in range(0, 10+1, 2):\n",
    "    print(numero)"
   ]
  },
  {
   "cell_type": "markdown",
   "metadata": {},
   "source": [
    "Los bucles `for` pueden recorrer cualquier secuencia, como por ejemplo una lista o una cadena:"
   ]
  },
  {
   "cell_type": "code",
   "execution_count": 3,
   "metadata": {},
   "outputs": [
    {
     "name": "stdout",
     "output_type": "stream",
     "text": [
      "Marcos\n",
      "Agustina\n",
      "Franco\n",
      "María\n",
      "H\n",
      "o\n",
      "l\n",
      "a\n"
     ]
    }
   ],
   "source": [
    "nombres = [\"Marcos\", \"Agustina\", \"Franco\", \"María\"]\n",
    "\n",
    "for nombre in nombres:\n",
    "    print(nombre)\n",
    "    \n",
    "for letra in \"Hola\":\n",
    "    print(letra)"
   ]
  },
  {
   "cell_type": "markdown",
   "metadata": {},
   "source": [
    "Cuando necesitamos obtener el índice de cada elemento de la lista, podemos utilizar la función `enumerate()`:\n",
    "\n",
    "**Nota**: para utilizar la funcion `enumerate()` debemos utilizar un indice y un valor ya que devuelve una tupla con ambos valores."
   ]
  },
  {
   "cell_type": "code",
   "execution_count": 5,
   "metadata": {},
   "outputs": [
    {
     "name": "stdout",
     "output_type": "stream",
     "text": [
      "0 Ford\n",
      "1 Chevrolet\n",
      "2 Fiat\n",
      "3 Peugeot\n"
     ]
    }
   ],
   "source": [
    "marcas_autos = [\"Ford\", \"Chevrolet\", \"Fiat\", \"Peugeot\"]\n",
    "\n",
    "for indice, marca in enumerate(marcas_autos):\n",
    "    print(indice, marca) "
   ]
  },
  {
   "cell_type": "markdown",
   "metadata": {},
   "source": [
    "También podemos utilizar bucles `for` anidados para recorrer listas de listas (matrices):"
   ]
  },
  {
   "cell_type": "code",
   "execution_count": 3,
   "metadata": {},
   "outputs": [
    {
     "name": "stdout",
     "output_type": "stream",
     "text": [
      "[1, 2, 3]\n",
      "1\n",
      "2\n",
      "3\n",
      "[4, 5, 6]\n",
      "4\n",
      "5\n",
      "6\n",
      "[7, 8, 9]\n",
      "7\n",
      "8\n",
      "9\n"
     ]
    }
   ],
   "source": [
    "matriz = [[1, 2, 3], [4, 5, 6], [7, 8, 9]]\n",
    "\n",
    "for fila in matriz:\n",
    "    print(fila)\n",
    "    for numero in fila:\n",
    "        print(numero)"
   ]
  },
  {
   "cell_type": "markdown",
   "metadata": {},
   "source": [
    "### 1.2 Bucle `while`\n",
    "\n",
    "El bucle `while` nos permite ejecutar un bloque de código mientras se cumpla una condición. La sintaxis es la siguiente:\n",
    "\n",
    "```python\n",
    "while condición:\n",
    "    # Código a ejecutar\n",
    "```\n",
    "\n",
    "La **condición** es una expresión que devuelve un valor booleano (`True` o `False`). Mientras la condición sea `True`, se ejecuta el bloque de código. Cuando la condición sea `False`, se termina la ejecución del bucle y se continúa con la ejecución del resto del programa."
   ]
  },
  {
   "cell_type": "code",
   "execution_count": 4,
   "metadata": {},
   "outputs": [
    {
     "name": "stdout",
     "output_type": "stream",
     "text": [
      "0 -> Nuevo i: 1 - condicion True\n",
      "1 -> Nuevo i: 2 - condicion True\n",
      "2 -> Nuevo i: 3 - condicion True\n",
      "3 -> Nuevo i: 4 - condicion True\n",
      "4 -> Nuevo i: 5 - condicion False\n"
     ]
    }
   ],
   "source": [
    "i = 0\n",
    "\n",
    "while i<5:\n",
    "    print(i, end=\" -> \")\n",
    "    i += 1\n",
    "    print(f\"Nuevo i: {i} - condicion\", i<5)"
   ]
  },
  {
   "cell_type": "markdown",
   "metadata": {},
   "source": [
    "A diferencia del bucle `for`, los bucles `while` se utilizan cuando no sabemos a priori el número de veces que se va a ejecutar el bucle, y depende de una condición que se va a evaluar en cada iteración.\n",
    "\n",
    "Los bucles `while` siempre tienen el riesgo de entrar en un **bucle infinito**. Esto ocurre cuando la condición siempre es `True`, y el bucle se ejecuta indefinidamente. Para evitarlo, es importante asegurarse de que la condición se vuelve `False` en algún momento.\n",
    "\n",
    "Veamos algunos ejemplos:"
   ]
  },
  {
   "cell_type": "code",
   "execution_count": 31,
   "metadata": {},
   "outputs": [
    {
     "name": "stdout",
     "output_type": "stream",
     "text": [
      "Estoy en el while\n"
     ]
    }
   ],
   "source": [
    "condicion = True\n",
    "\n",
    "while condicion:\n",
    "    print(\"Estoy en el while\")\n",
    "    condicion = False"
   ]
  },
  {
   "cell_type": "code",
   "execution_count": 30,
   "metadata": {},
   "outputs": [
    {
     "name": "stdout",
     "output_type": "stream",
     "text": [
      "0\n",
      "1\n",
      "2\n",
      "3\n",
      "4\n"
     ]
    }
   ],
   "source": [
    "contador = 0\n",
    "\n",
    "while contador < 5:\n",
    "    print(contador)\n",
    "    contador += 1"
   ]
  },
  {
   "cell_type": "markdown",
   "metadata": {},
   "source": [
    "```python \n",
    "while True \n",
    "```\n",
    " es útil para crear bucles infinitos, por ejemplo, para crear un servidor web que siempre esté escuchando peticiones. Tambien podemos utilizarlo para crear un menú de opciones que se ejecute hasta que el usuario elija la opción de salir."
   ]
  },
  {
   "cell_type": "markdown",
   "metadata": {},
   "source": [
    "Los bucles `while` también se pueden anidar:"
   ]
  },
  {
   "cell_type": "code",
   "execution_count": 29,
   "metadata": {},
   "outputs": [
    {
     "name": "stdout",
     "output_type": "stream",
     "text": [
      "0 0\n",
      "0 1\n",
      "1 0\n",
      "1 1\n"
     ]
    }
   ],
   "source": [
    "i = 0\n",
    "while i < 2:\n",
    "    j = 0\n",
    "    while j < 2:\n",
    "        print(i, j)\n",
    "        j += 1\n",
    "    i += 1"
   ]
  },
  {
   "cell_type": "markdown",
   "metadata": {},
   "source": [
    "## 2. Control de bucles\n",
    "\n",
    "### 2.1 Interrumpir la ejecución de un bucle\n",
    "\n",
    "En cualquier momento, podemos interrumpir la ejecución de un bucle utilizando la sentencia `break`. Cuando se ejecuta `break`, se termina la ejecución del bucle y se continúa con la ejecución del resto del programa.\n",
    "\n",
    "Veamos un ejemplo:\n"
   ]
  },
  {
   "cell_type": "code",
   "execution_count": 6,
   "metadata": {},
   "outputs": [
    {
     "name": "stdout",
     "output_type": "stream",
     "text": [
      "Estoy en el while\n"
     ]
    }
   ],
   "source": [
    "while True:\n",
    "    print(\"Estoy en el while\")\n",
    "    break"
   ]
  },
  {
   "cell_type": "code",
   "execution_count": 33,
   "metadata": {},
   "outputs": [
    {
     "name": "stdout",
     "output_type": "stream",
     "text": [
      "0\n",
      "1\n",
      "2\n"
     ]
    }
   ],
   "source": [
    "contador_2 = 0\n",
    "\n",
    "while contador_2 < 5:\n",
    "    print(contador_2)\n",
    "    contador_2 += 1\n",
    "    if contador_2 == 3:\n",
    "        break\n",
    "    "
   ]
  },
  {
   "cell_type": "code",
   "execution_count": 7,
   "metadata": {},
   "outputs": [
    {
     "name": "stdout",
     "output_type": "stream",
     "text": [
      "0\n",
      "1\n",
      "2\n",
      "3\n",
      "4\n",
      "5\n"
     ]
    }
   ],
   "source": [
    "for numero in range(10):\n",
    "    if numero == 6:\n",
    "        break\n",
    "    print(numero)"
   ]
  },
  {
   "cell_type": "markdown",
   "metadata": {},
   "source": [
    "### 2.2 Saltar a la siguiente iteración\n",
    "\n",
    "En cualquier momento, podemos saltar a la siguiente iteración de un bucle utilizando la sentencia `continue`. Cuando se ejecuta `continue`, se termina la ejecución del bloque de código actual, y se continúa con la siguiente iteración del bucle.\n",
    "\n",
    "Veamos un ejemplo:"
   ]
  },
  {
   "cell_type": "code",
   "execution_count": 38,
   "metadata": {},
   "outputs": [
    {
     "name": "stdout",
     "output_type": "stream",
     "text": [
      "0\n",
      "2\n",
      "4\n"
     ]
    }
   ],
   "source": [
    "for numero in range(5):\n",
    "    if numero == 3 or numero == 1:\n",
    "        continue\n",
    "    print(numero)"
   ]
  },
  {
   "cell_type": "code",
   "execution_count": 42,
   "metadata": {},
   "outputs": [
    {
     "name": "stdout",
     "output_type": "stream",
     "text": [
      "En el bucle while, vuelta numero: 0\n",
      "Fin de la vuelta...\n",
      "En el bucle while, vuelta numero: 1\n",
      "Fin de la vuelta...\n",
      "En el bucle while, vuelta numero: 2\n",
      "En el bucle while, vuelta numero: 3\n",
      "Fin de la vuelta...\n",
      "En el bucle while, vuelta numero: 4\n",
      "Fin de la vuelta...\n"
     ]
    }
   ],
   "source": [
    "contador_3 = 0\n",
    "\n",
    "while contador_3 < 5:\n",
    "    print(\"En el bucle while, vuelta numero:\", contador_3)\n",
    "    contador_3 += 1\n",
    "    if contador_3 == 3:\n",
    "        continue\n",
    "    print(\"Fin de la vuelta...\")\n",
    "    \n",
    "    "
   ]
  },
  {
   "cell_type": "markdown",
   "metadata": {},
   "source": [
    "### 2.3 Bucles `else`\n",
    "\n",
    "Los bucles `for` y `while` pueden tener una cláusula `else` que se ejecuta cuando se termina la iteración del bucle, es decir, solo si la condición paso a ser `False`. La sintaxis es la siguiente:\n",
    "\n",
    "```python\n",
    "for variable in secuencia:\n",
    "    # Código a ejecutar\n",
    "else:\n",
    "    # Código a ejecutar cuando se termina el bucle\n",
    "```\n",
    "\n",
    "```python\n",
    "while condición:\n",
    "    # Código a ejecutar\n",
    "else:\n",
    "    # Código a ejecutar cuando se termina el bucle\n",
    "```\n",
    "\n",
    "Veamos un ejemplo:"
   ]
  },
  {
   "cell_type": "code",
   "execution_count": 44,
   "metadata": {},
   "outputs": [
    {
     "name": "stdout",
     "output_type": "stream",
     "text": [
      "0\n",
      "1\n",
      "2\n",
      "3\n",
      "4\n",
      "Fin del bucle for\n"
     ]
    }
   ],
   "source": [
    "for numero in range(5):\n",
    "    print(numero)\n",
    "else:\n",
    "    print(\"Fin del bucle for\")\n"
   ]
  },
  {
   "cell_type": "code",
   "execution_count": 45,
   "metadata": {},
   "outputs": [
    {
     "name": "stdout",
     "output_type": "stream",
     "text": [
      "0\n",
      "1\n",
      "2\n",
      "3\n",
      "4\n",
      "Fin del bucle while\n"
     ]
    }
   ],
   "source": [
    "contador_4 = 0\n",
    "\n",
    "while contador_4 < 5:\n",
    "    print(contador_4)\n",
    "    contador_4 += 1\n",
    "else:\n",
    "    print(\"Fin del bucle while\")"
   ]
  },
  {
   "cell_type": "code",
   "execution_count": 46,
   "metadata": {},
   "outputs": [
    {
     "name": "stdout",
     "output_type": "stream",
     "text": [
      "0\n",
      "1\n",
      "2\n"
     ]
    }
   ],
   "source": [
    "contador_5 = 0\n",
    "\n",
    "while contador_5 < 5:\n",
    "    print(contador_5)\n",
    "    contador_5 += 1\n",
    "    if contador_5 == 3:\n",
    "        break           # Si se ejecuta el break, no se ejecuta el else\n",
    "else:\n",
    "    print(\"Fin del bucle while\")"
   ]
  }
 ],
 "metadata": {
  "kernelspec": {
   "display_name": "Python 3",
   "language": "python",
   "name": "python3"
  },
  "language_info": {
   "codemirror_mode": {
    "name": "ipython",
    "version": 3
   },
   "file_extension": ".py",
   "mimetype": "text/x-python",
   "name": "python",
   "nbconvert_exporter": "python",
   "pygments_lexer": "ipython3",
   "version": "3.12.0"
  }
 },
 "nbformat": 4,
 "nbformat_minor": 2
}
