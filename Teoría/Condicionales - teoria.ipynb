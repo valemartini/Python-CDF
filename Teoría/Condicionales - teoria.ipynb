{
 "cells": [
  {
   "cell_type": "markdown",
   "metadata": {},
   "source": [
    "# <center>**03 - CONDICIONALES**</center>"
   ]
  },
  {
   "cell_type": "markdown",
   "metadata": {},
   "source": [
    "Las estructuras de control son aquellas que nos permiten controlar el flujo de ejecución de un programa. En Python, al igual que en otros lenguajes, existen tres tipos de estructuras de control:\n",
    "\n",
    "* **Estructuras secuenciales**: son aquellas que se ejecutan de forma secuencial, es decir, una detrás de otra. Es el tipo de estructura de control más básica y no requiere de ninguna palabra clave para su ejecución.\n",
    "\n",
    "* **Estructuras condicionales**: son aquellas que se ejecutan en función de una condición. En Python, las estructuras condicionales se implementan mediante las palabras clave `if`, `elif` y `else`.\n",
    "\n",
    "* **Estructuras iterativas**: son aquellas que se ejecutan de forma repetitiva mientras se cumpla una condición. En Python, las estructuras iterativas se implementan mediante las palabras clave `for` y `while`.\n",
    "\n",
    "En este notebook nos centraremos en las estructuras condicionales."
   ]
  },
  {
   "cell_type": "markdown",
   "metadata": {},
   "source": [
    "## 1. Estructuras condicionales\n",
    "\n",
    "Las estructuras condicionales nos permiten ejecutar un bloque de código u otro en función de una condición. En Python, las estructuras condicionales se implementan mediante las palabras clave `if`, `elif` y `else`."
   ]
  },
  {
   "cell_type": "markdown",
   "metadata": {},
   "source": [
    "### 1.1. La estructura `if`\n",
    "\n",
    "La estructura `if` nos permite ejecutar un bloque de código si se cumple una condición. La sintaxis de esta estructura es la siguiente:\n",
    "\n",
    "```python\n",
    "if condicion:\n",
    "    # Codigo a ejecutar si se cumple la condicion\n",
    "```"
   ]
  },
  {
   "cell_type": "code",
   "execution_count": 1,
   "metadata": {},
   "outputs": [],
   "source": [
    "numero = 5\n",
    "\n",
    "if numero < 0:\n",
    "    print(\"Condicion verdadera\")"
   ]
  },
  {
   "cell_type": "markdown",
   "metadata": {},
   "source": [
    "En el caso de que la condición no se cumpla, el bloque de código no se ejecutará. Veamos un ejemplo:"
   ]
  },
  {
   "cell_type": "code",
   "execution_count": 2,
   "metadata": {},
   "outputs": [
    {
     "name": "stdout",
     "output_type": "stream",
     "text": [
      "El numero es positivo\n"
     ]
    }
   ],
   "source": [
    "numero = 5\n",
    "\n",
    "if numero > 0:\n",
    "    print(\"El numero es positivo\")"
   ]
  },
  {
   "cell_type": "markdown",
   "metadata": {},
   "source": [
    "En este caso, el bloque de código se ejecutará porque la condición se cumple. Sin embargo, si cambiamos el valor de la variable `numero` a un valor negativo, el bloque de código no se ejecutará:\n",
    "\n",
    "```python"
   ]
  },
  {
   "cell_type": "code",
   "execution_count": 3,
   "metadata": {},
   "outputs": [],
   "source": [
    "numero = -5\n",
    "\n",
    "if numero > 0:\n",
    "    print(\"El numero es positivo\")"
   ]
  },
  {
   "cell_type": "markdown",
   "metadata": {},
   "source": [
    "Una sentencia if puede tener mas de una condicion, para ello concatenamos las condiciones con los operadores logicos and y or.\n",
    "\n",
    "```python\n",
    "if condicion1 and condicion2:\n",
    "    # Codigo a ejecutar si se cumplen ambas condiciones\n",
    "```\n",
    "\n",
    "```python"
   ]
  },
  {
   "cell_type": "code",
   "execution_count": 4,
   "metadata": {},
   "outputs": [
    {
     "name": "stdout",
     "output_type": "stream",
     "text": [
      "Condicion verdadera\n"
     ]
    }
   ],
   "source": [
    "num_1 = 5\n",
    "num_2 = -3\n",
    "\n",
    "if num_1 > 3 and num_2 < 0:\n",
    "    print(\"Condicion verdadera\")"
   ]
  },
  {
   "cell_type": "markdown",
   "metadata": {},
   "source": [
    "### 1.2. La estructura `if-else`\n",
    "\n",
    "La estructura `if-else` nos permite ejecutar un bloque de código si se cumple una condición y otro bloque de código si no se cumple. La sintaxis de esta estructura es la siguiente:\n",
    "\n",
    "```python  \n",
    "if condicion:\n",
    "    # Codigo a ejecutar si se cumple la condicion\n",
    "else:\n",
    "    # Codigo a ejecutar si no se cumple la condicion\n",
    "```\n",
    "Veamo un ejemplo:"
   ]
  },
  {
   "cell_type": "code",
   "execution_count": 5,
   "metadata": {},
   "outputs": [
    {
     "name": "stdout",
     "output_type": "stream",
     "text": [
      "El color es rojo\n"
     ]
    }
   ],
   "source": [
    "color = \"rojo\"\n",
    "\n",
    "if color == \"rojo\":\n",
    "    print(\"El color es rojo\")\n",
    "else:\n",
    "    print(\"El color no es rojo\")"
   ]
  },
  {
   "cell_type": "markdown",
   "metadata": {},
   "source": [
    "En este caso, el bloque de código que se ejecutará será el que imprime por pantalla que el color es rojo. Sin embargo, si cambiamos el valor de la variable `color`, el bloque de código que se ejecutará será el que imprime por pantalla que el color no es rojo."
   ]
  },
  {
   "cell_type": "markdown",
   "metadata": {},
   "source": [
    "### 1.3. La estructura `if-elif-else`\n",
    "\n",
    "La estructura `if-elif-else` nos permite ejecutar un bloque de código si se cumple una condición, otro bloque de código si se cumple otra condición y otro bloque de código si no se cumple ninguna de las dos condiciones. La sintaxis de esta estructura es la siguiente:\n",
    "\n",
    "```python\n",
    "if condicion_1:\n",
    "    # Codigo a ejecutar si se cumple la condicion_1\n",
    "elif condicion_2:\n",
    "    # Codigo a ejecutar si se cumple la condicion_2\n",
    "else:\n",
    "    # Codigo a ejecutar si no se cumple ninguna de las dos condiciones\n",
    "```\n",
    "\n",
    "Veamos un ejemplo:"
   ]
  },
  {
   "cell_type": "code",
   "execution_count": 17,
   "metadata": {},
   "outputs": [
    {
     "name": "stdout",
     "output_type": "stream",
     "text": [
      "Esta lloviendo\n"
     ]
    }
   ],
   "source": [
    "humedad = 85\n",
    "\n",
    "if humedad > 80:\n",
    "    print(\"Esta lloviendo\")\n",
    "elif 30 < humedad < 80:\n",
    "    print(\"Esta nublado\")\n",
    "else:\n",
    "    print(\"El dia esta soleado\")"
   ]
  },
  {
   "cell_type": "markdown",
   "metadata": {},
   "source": [
    "En este caso, el programa probará la primera condición. Si se cumple, ejecutará el bloque de código que imprime por pantalla que esta lloviendo. Si no se cumple, probará la segunda condición. Si se cumple, ejecutará el bloque de código que imprime por pantalla que esta nublado. Si no se cumple, ejecutará el bloque de código que imprime por pantalla que el dia esta soleado."
   ]
  },
  {
   "cell_type": "markdown",
   "metadata": {},
   "source": [
    "### 1.4. La estructura `if` abreviada\n",
    "\n",
    "En Python, existe una forma abreviada de la estructura `if` que nos permite ejecutar un bloque de código si se cumple una condición. La sintaxis de esta estructura es la siguiente:\n",
    "\n",
    "```python\n",
    "hacer_algo if condicion else hacer_otra_cosa\n",
    "```\n",
    "\n",
    "Veamos un ejemplo:"
   ]
  },
  {
   "cell_type": "code",
   "execution_count": 6,
   "metadata": {},
   "outputs": [
    {
     "name": "stdout",
     "output_type": "stream",
     "text": [
      "Juan\n"
     ]
    }
   ],
   "source": [
    "nombre = \"Juan\"\n",
    "condicion = True\n",
    "\n",
    "print(nombre) if condicion == True else print(\"La condicion no se cumple\") "
   ]
  },
  {
   "cell_type": "markdown",
   "metadata": {},
   "source": [
    "Otra forma de abreviar la estructura `if` es la siguiente:\n",
    "\n",
    "```python\n",
    "if condicion: hacer_algo\n",
    "```\n",
    "\n",
    "Veamos un ejemplo:"
   ]
  },
  {
   "cell_type": "code",
   "execution_count": 19,
   "metadata": {},
   "outputs": [
    {
     "name": "stdout",
     "output_type": "stream",
     "text": [
      "El alumno es Pablo\n"
     ]
    }
   ],
   "source": [
    "alumno = \"Pablo\"\n",
    "\n",
    "if alumno == \"Pablo\": print(\"El alumno es Pablo\")"
   ]
  }
 ],
 "metadata": {
  "kernelspec": {
   "display_name": "Python 3",
   "language": "python",
   "name": "python3"
  },
  "language_info": {
   "codemirror_mode": {
    "name": "ipython",
    "version": 3
   },
   "file_extension": ".py",
   "mimetype": "text/x-python",
   "name": "python",
   "nbconvert_exporter": "python",
   "pygments_lexer": "ipython3",
   "version": "3.12.0"
  }
 },
 "nbformat": 4,
 "nbformat_minor": 2
}
