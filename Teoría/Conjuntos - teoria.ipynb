{
 "cells": [
  {
   "cell_type": "markdown",
   "metadata": {},
   "source": [
    "# <center>**06 - CONJUNTOS**</center>"
   ]
  },
  {
   "cell_type": "markdown",
   "metadata": {},
   "source": [
    "Los conjuntos son una estructura de datos que permite almacenar elementos de forma desordenada. Los elementos de un conjunto deben ser **inmutables** (no se pueden modificar una vez creados) y **no repetidos**. Los conjuntos son una estructura de datos muy útil para realizar operaciones de teoría de conjuntos como unión, intersección, diferencia, etc."
   ]
  },
  {
   "cell_type": "markdown",
   "metadata": {},
   "source": [
    "## 6.1. Creación de conjuntos\n",
    "\n",
    "Para crear un conjunto se utilizan los caracteres `{}` o bien la función `set()`. Los elementos del conjunto se separan por comas. Por ejemplo, el siguiente conjunto contiene los números 1, 2 y 3:\n",
    "\n",
    "    {1, 2, 3}"
   ]
  },
  {
   "cell_type": "code",
   "execution_count": 5,
   "metadata": {},
   "outputs": [
    {
     "name": "stdout",
     "output_type": "stream",
     "text": [
      "<class 'set'>\n"
     ]
    }
   ],
   "source": [
    "conjunto_1 = {1, 2, 3, 4, 5}\n",
    "conjunto_2 = set()\n",
    "print(type(conjunto_1))"
   ]
  },
  {
   "cell_type": "markdown",
   "metadata": {},
   "source": [
    "Un conjunto no puede contener elementos repetidos, por lo que si se intenta crear un conjunto con elementos repetidos, se eliminarán las repeticiones."
   ]
  },
  {
   "cell_type": "code",
   "execution_count": 9,
   "metadata": {},
   "outputs": [
    {
     "name": "stdout",
     "output_type": "stream",
     "text": [
      "{1, 2, 3, 4, 5}\n"
     ]
    }
   ],
   "source": [
    "no_repeticiones = set([1, 2, 3, 4, 5, 5, 4, 3, 2, 1])\n",
    "print(no_repeticiones)"
   ]
  },
  {
   "cell_type": "markdown",
   "metadata": {},
   "source": [
    "Si se intenta incluir un elemento mutable en un conjunto, se producirá un error. Por ejemplo, el siguiente conjunto no se puede crear porque contiene una lista, que es mutable:"
   ]
  },
  {
   "cell_type": "code",
   "execution_count": 12,
   "metadata": {},
   "outputs": [
    {
     "ename": "TypeError",
     "evalue": "unhashable type: 'list'",
     "output_type": "error",
     "traceback": [
      "\u001b[1;31m---------------------------------------------------------------------------\u001b[0m",
      "\u001b[1;31mTypeError\u001b[0m                                 Traceback (most recent call last)",
      "\u001b[1;32mc:\\Users\\lucia\\OneDrive\\Documentos\\aESCUELA DE PROGRAMACION\\CURSO PYTHON - TEORIA\\CONJUNTOS\\Conjuntos - teoria.ipynb Cell 8\u001b[0m line \u001b[0;36m1\n\u001b[1;32m----> <a href='vscode-notebook-cell:/c%3A/Users/lucia/OneDrive/Documentos/aESCUELA%20DE%20PROGRAMACION/CURSO%20PYTHON%20-%20TEORIA/CONJUNTOS/Conjuntos%20-%20teoria.ipynb#X12sZmlsZQ%3D%3D?line=0'>1</a>\u001b[0m mi_set \u001b[39m=\u001b[39m {\u001b[39m1\u001b[39m,\u001b[39m2\u001b[39m,\u001b[39m3\u001b[39m, [\u001b[39m1\u001b[39m,\u001b[39m2\u001b[39m,\u001b[39m3\u001b[39m]}\n\u001b[0;32m      <a href='vscode-notebook-cell:/c%3A/Users/lucia/OneDrive/Documentos/aESCUELA%20DE%20PROGRAMACION/CURSO%20PYTHON%20-%20TEORIA/CONJUNTOS/Conjuntos%20-%20teoria.ipynb#X12sZmlsZQ%3D%3D?line=1'>2</a>\u001b[0m \u001b[39mprint\u001b[39m(mi_set)\n",
      "\u001b[1;31mTypeError\u001b[0m: unhashable type: 'list'"
     ]
    }
   ],
   "source": [
    "mi_set = {1,2,3, [1,2,3]}\n",
    "print(mi_set)"
   ]
  },
  {
   "cell_type": "markdown",
   "metadata": {},
   "source": [
    "## 6.2. Acceso a elementos de un conjunto\n",
    "\n",
    "Los elementos de un conjunto no se pueden acceder mediante índices, ya que los elementos de un conjunto no tienen un orden. Para acceder a los elementos de un conjunto se puede recorrer el conjunto con un bucle `for` o bien convertir el conjunto a una lista o tupla."
   ]
  },
  {
   "cell_type": "code",
   "execution_count": 16,
   "metadata": {},
   "outputs": [
    {
     "name": "stdout",
     "output_type": "stream",
     "text": [
      "{'L', 'O', 20, 'A', 'H', 10, 30}\n",
      "L\n",
      "O\n",
      "20\n",
      "A\n",
      "H\n",
      "10\n",
      "30\n"
     ]
    }
   ],
   "source": [
    "mi_conjunto = {10, 20, 30, \"H\", \"O\", \"L\", \"A\"}\n",
    "print(mi_conjunto)\n",
    "\n",
    "for i in mi_conjunto:\n",
    "    print(i)"
   ]
  },
  {
   "cell_type": "markdown",
   "metadata": {},
   "source": [
    "## 6.3. Añadir y eliminar elementos de un conjunto\n",
    "\n",
    "Para añadir elementos a un conjunto se utiliza el método `add()`. Si el elemento ya existe en el conjunto, no se añadirá de nuevo."
   ]
  },
  {
   "cell_type": "code",
   "execution_count": 18,
   "metadata": {},
   "outputs": [
    {
     "name": "stdout",
     "output_type": "stream",
     "text": [
      "{'L', 'O', 20, 'A', 'H', 10, '!', 30}\n",
      "{'L', 'O', 20, 'A', 'H', 10, '!', 30}\n"
     ]
    }
   ],
   "source": [
    "mi_conjunto.add(\"!\")\n",
    "print(mi_conjunto)"
   ]
  },
  {
   "cell_type": "markdown",
   "metadata": {},
   "source": [
    "Para eliminar elementos de un conjunto se utiliza el método `remove()`. Si el elemento no existe en el conjunto, se producirá un error."
   ]
  },
  {
   "cell_type": "code",
   "execution_count": 19,
   "metadata": {},
   "outputs": [
    {
     "name": "stdout",
     "output_type": "stream",
     "text": [
      "{'L', 'O', 20, 'A', 10, '!', 30}\n"
     ]
    }
   ],
   "source": [
    "mi_conjunto.remove(\"H\")\n",
    "print(mi_conjunto)"
   ]
  },
  {
   "cell_type": "markdown",
   "metadata": {},
   "source": [
    "## 6.4. Operaciones con conjuntos\n",
    "\n",
    "Los conjuntos permiten realizar operaciones de teoría de conjuntos como unión, intersección, diferencia, etc. Para realizar estas operaciones se pueden utilizar los operadores `|`, `&`, `-`, `^` o bien los métodos `union()`, `intersection()`, `difference()`, `symmetric_difference()`. Por ejemplo, el siguiente código muestra cómo realizar estas operaciones:"
   ]
  },
  {
   "cell_type": "code",
   "execution_count": 20,
   "metadata": {},
   "outputs": [
    {
     "name": "stdout",
     "output_type": "stream",
     "text": [
      "{1, 2, 3, 4, 5, 6, 7, 8}\n"
     ]
    }
   ],
   "source": [
    "conjunto_a = {1, 2, 3, 4, 5}\n",
    "conjunto_b = {4, 5, 6, 7, 8}\n",
    "print(conjunto_a.union(conjunto_b))"
   ]
  },
  {
   "cell_type": "code",
   "execution_count": 21,
   "metadata": {},
   "outputs": [
    {
     "name": "stdout",
     "output_type": "stream",
     "text": [
      "{4, 5}\n"
     ]
    }
   ],
   "source": [
    "print(conjunto_a.intersection(conjunto_b))"
   ]
  },
  {
   "cell_type": "code",
   "execution_count": 23,
   "metadata": {},
   "outputs": [
    {
     "name": "stdout",
     "output_type": "stream",
     "text": [
      "{1, 2, 3}\n",
      "{8, 6, 7}\n"
     ]
    }
   ],
   "source": [
    "print(conjunto_a.difference(conjunto_b))\n",
    "\n",
    "print(conjunto_b.difference(conjunto_a))"
   ]
  },
  {
   "cell_type": "code",
   "execution_count": 24,
   "metadata": {},
   "outputs": [
    {
     "name": "stdout",
     "output_type": "stream",
     "text": [
      "{1, 2, 3, 6, 7, 8}\n"
     ]
    }
   ],
   "source": [
    "print(conjunto_a.symmetric_difference(conjunto_b))"
   ]
  },
  {
   "cell_type": "markdown",
   "metadata": {},
   "source": [
    "## 6.5. Comprobar si un conjunto es subconjunto de otro\n",
    "\n",
    "Para comprobar si un conjunto es subconjunto de otro se utiliza el operador `<=` o el método `issubset()`. Por ejemplo, el siguiente código muestra cómo comprobar si un conjunto es subconjunto de otro:"
   ]
  },
  {
   "cell_type": "code",
   "execution_count": 28,
   "metadata": {},
   "outputs": [
    {
     "name": "stdout",
     "output_type": "stream",
     "text": [
      "True\n"
     ]
    }
   ],
   "source": [
    "set_a = {1, 2, 3, 4, 5}\n",
    "set_b = {2, 4}\n",
    "\n",
    "print(set_b.issubset(set_a))"
   ]
  },
  {
   "cell_type": "markdown",
   "metadata": {},
   "source": [
    "## 6.6. Comprobar si un conjunto es superconjunto de otro\n",
    "\n",
    "Para comprobar si un conjunto es superconjunto de otro se utiliza el operador `>=` o el método `issuperset()`."
   ]
  },
  {
   "cell_type": "code",
   "execution_count": 29,
   "metadata": {},
   "outputs": [
    {
     "name": "stdout",
     "output_type": "stream",
     "text": [
      "True\n"
     ]
    }
   ],
   "source": [
    "print(set_a.issuperset(set_b))"
   ]
  },
  {
   "cell_type": "markdown",
   "metadata": {},
   "source": [
    "## 6.7. Comprobar si dos conjuntos son disjuntos\n",
    "\n",
    "Para comprobar si dos conjuntos son disjuntos (no tienen elementos en común) se utiliza el método `isdisjoint()`."
   ]
  },
  {
   "cell_type": "code",
   "execution_count": 31,
   "metadata": {},
   "outputs": [
    {
     "name": "stdout",
     "output_type": "stream",
     "text": [
      "True\n"
     ]
    }
   ],
   "source": [
    "set_a = {1, 2, 3, 4, 5}\n",
    "set_b = {6, 7, 8, 9, 10}\n",
    "\n",
    "print(set_a.isdisjoint(set_b))"
   ]
  },
  {
   "cell_type": "markdown",
   "metadata": {},
   "source": [
    "## 6.8. Otras operaciones con conjuntos\n",
    "\n",
    "Los conjuntos permiten realizar otras operaciones como calcular el número de elementos de un conjunto, vaciar un conjunto, copiar un conjunto, etc.\n",
    "\n",
    "| Operación | Descripción |\n",
    "|-----------|-------------|\n",
    "| `len(conjunto)` | Número de elementos del conjunto |\n",
    "| `conjunto.clear()` | Vaciar el conjunto |\n",
    "| `conjunto.copy()` | Copiar el conjunto |\n",
    "| `conjunto.pop()` | Extraer un elemento del conjunto |\n",
    "| `conjunto.update(conjunto2)` | Unión de conjuntos con actualización |\n",
    "| `conjunto.intersection_update(conjunto2)` | Intersección de conjuntos con actualización |\n",
    "| `conjunto.difference_update(conjunto2)` | Diferencia de conjuntos con actualización |\n",
    "| `conjunto.symmetric_difference_update(conjunto2)` | Diferencia simétrica de conjuntos con actualización |"
   ]
  }
 ],
 "metadata": {
  "kernelspec": {
   "display_name": "Python 3",
   "language": "python",
   "name": "python3"
  },
  "language_info": {
   "codemirror_mode": {
    "name": "ipython",
    "version": 3
   },
   "file_extension": ".py",
   "mimetype": "text/x-python",
   "name": "python",
   "nbconvert_exporter": "python",
   "pygments_lexer": "ipython3",
   "version": "3.11.4"
  }
 },
 "nbformat": 4,
 "nbformat_minor": 2
}
