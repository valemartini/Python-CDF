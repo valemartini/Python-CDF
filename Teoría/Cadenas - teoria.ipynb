{
 "cells": [
  {
   "cell_type": "markdown",
   "metadata": {},
   "source": [
    "# <center>**MÉTODOS DE CADENAS**</center>"
   ]
  },
  {
   "cell_type": "markdown",
   "metadata": {},
   "source": [
    "#### **Métodos de cadenas**\n",
    "\n",
    "Los métodos de cadenas son funciones que se aplican a las cadenas de caracteres. Se aplican de la siguiente forma:\n",
    "\n",
    "```python\n",
    "cadena.metodo()\n",
    "```\n",
    "\n",
    "Los métodos de cadenas más utilizados son:\n",
    "\n",
    "- **upper()**: convierte todos los caracteres de la cadena a mayúsculas.\n",
    "- **lower()**: convierte todos los caracteres de la cadena a minúsculas.\n",
    "- **capitalize()**: convierte el primer carácter de la cadena a mayúsculas y el resto a minúsculas.\n",
    "- **title()**: convierte el primer carácter de cada palabra de la cadena a mayúsculas y el resto a minúsculas.\n",
    "- **swapcase()**: convierte los caracteres en mayúsculas a minúsculas y viceversa.\n",
    "- **count(subcadena)**: devuelve el número de veces que aparece la subcadena en la cadena.\n",
    "- **find(subcadena)**: devuelve la posición de la primera aparición de la subcadena en la cadena. Si no se encuentra devuelve -1.\n",
    "- **rfind(subcadena)**: devuelve la posición de la última aparición de la subcadena en la cadena. Si no se encuentra devuelve -1.\n",
    "- **index(subcadena)**: devuelve la posición de la primera aparición de la subcadena en la cadena. Si no se encuentra genera una excepción.\n",
    "- **rindex(subcadena)**: devuelve la posición de la última aparición de la subcadena en la cadena. Si no se encuentra genera una excepción.\n",
    "- **startswith(subcadena)**: devuelve True si la cadena comienza con la subcadena.\n",
    "- **endswith(subcadena)**: devuelve True si la cadena termina con la subcadena.\n",
    "- **strip()**: devuelve una copia de la cadena eliminando los espacios en blanco por la izquierda y por la derecha.\n",
    "- **lstrip()**: devuelve una copia de la cadena eliminando los espacios en blanco por la izquierda.\n",
    "- **rstrip()**: devuelve una copia de la cadena eliminando los espacios en blanco por la derecha.\n",
    "- **replace(subcadena1, subcadena2)**: devuelve una copia de la cadena reemplazando todas las apariciones de la subcadena1 por la subcadena2.\n",
    "- **split(separador)**: devuelve una lista de subcadenas obtenidas al dividir la cadena original a partir de las apariciones del separador.\n",
    "- **join(lista)**: devuelve una cadena que es la unión de los elementos de la lista separados por la cadena original."
   ]
  },
  {
   "cell_type": "code",
   "execution_count": 1,
   "metadata": {},
   "outputs": [
    {
     "name": "stdout",
     "output_type": "stream",
     "text": [
      " METODOS DE CADENAS \n",
      " metodos de cadenas \n",
      " metodos de cadenas \n",
      " Metodos De Cadenas \n",
      " METODOS de cADENAS \n"
     ]
    }
   ],
   "source": [
    "cadena = \" metodos DE Cadenas \"\n",
    "\n",
    "cadena_upper = cadena.upper()\n",
    "cadena_lower = cadena.lower()\n",
    "cadena_capitalize = cadena.capitalize()\n",
    "cadena_title = cadena.title()\n",
    "cadena_swapcase = cadena.swapcase()\n",
    "\n",
    "print(cadena_upper)\n",
    "print(cadena_lower)\n",
    "print(cadena_capitalize)\n",
    "print(cadena_title)\n",
    "print(cadena_swapcase)"
   ]
  },
  {
   "cell_type": "code",
   "execution_count": 8,
   "metadata": {},
   "outputs": [
    {
     "name": "stdout",
     "output_type": "stream",
     "text": [
      "2\n",
      "La cadena empieza con 'm': False\n",
      "metodos DE Cadenas\n",
      "['metodos', 'DE', 'Cadenas']\n",
      " metodos DE CaDeNaS \n"
     ]
    }
   ],
   "source": [
    "cuenta_e = cadena.count(\"e\") # Distincion entre mayusculas y minusculas\n",
    "print(cuenta_e)\n",
    "\n",
    "print(\"La cadena empieza con 'm':\", cadena.startswith(\"m\"))\n",
    "\n",
    "cadena_sin_espacios = cadena.strip()\n",
    "print(cadena_sin_espacios)\n",
    "\n",
    "cadena_separada = cadena_sin_espacios.split(\" \") # Separa la cadena en una lista\n",
    "print(cadena_separada)\n",
    "\n",
    "cadena_modificada = cadena.replace(\"Cadenas\", \"CaDeNaS\")\n",
    "print(cadena_modificada)"
   ]
  }
 ],
 "metadata": {
  "kernelspec": {
   "display_name": "Python 3",
   "language": "python",
   "name": "python3"
  },
  "language_info": {
   "codemirror_mode": {
    "name": "ipython",
    "version": 3
   },
   "file_extension": ".py",
   "mimetype": "text/x-python",
   "name": "python",
   "nbconvert_exporter": "python",
   "pygments_lexer": "ipython3",
   "version": "3.11.4"
  }
 },
 "nbformat": 4,
 "nbformat_minor": 2
}
