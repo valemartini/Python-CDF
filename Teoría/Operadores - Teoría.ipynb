{
 "cells": [
  {
   "cell_type": "markdown",
   "metadata": {},
   "source": [
    "# <center>**02 - OPERADORES**</center>"
   ]
  },
  {
   "cell_type": "markdown",
   "metadata": {},
   "source": [
    "#### **1. Operadores Aritméticos**\n",
    "\n",
    "Los operadores aritméticos son los que nos permiten realizar operaciones matemáticas entre dos valores. Los operadores aritméticos son los siguientes:\n",
    "\n",
    "| Operador | Descripción | Ejemplo |\n",
    "|:--------:|:-----------:|:-------:|\n",
    "| + | Suma | 2 + 2 = 4 |\n",
    "| - | Resta | 2 - 2 = 0|\n",
    "| * | Multiplicación | 2 * 2 = 4 |\n",
    "| / | División | 2 / 2 = 1 |\n",
    "| % | Módulo | 2 % 2 = 0 |\n",
    "| ** | Exponente | 2 ** 2 = 4|\n",
    "| // | División entera | 2 // 2 = 1 |"
   ]
  },
  {
   "cell_type": "code",
   "execution_count": 2,
   "metadata": {},
   "outputs": [
    {
     "name": "stdout",
     "output_type": "stream",
     "text": [
      "17\n",
      "16\n",
      "6\n"
     ]
    }
   ],
   "source": [
    "suma = 15+2\n",
    "\n",
    "exponente = 4**2\n",
    "\n",
    "div_entera = 13//2\n",
    "\n",
    "print(suma)\n",
    "print(exponente)\n",
    "print(div_entera)"
   ]
  },
  {
   "cell_type": "markdown",
   "metadata": {},
   "source": [
    "#### **2. Operadores de Comparación**\n",
    "\n",
    "Los operadores de comparación son los que nos permiten comparar dos valores. Los operadores de comparación son los siguientes:\n",
    "\n",
    "| Operador | Descripción | Ejemplo |\n",
    "|:--------:|:-----------:|:-------:|\n",
    "| == | Igual que | 2 == 2 |\n",
    "| != | Distinto que | 2 != 3 |\n",
    "| < | Menor que | 2 < 3 |\n",
    "| > | Mayor que | 3 > 2 |\n",
    "\n",
    "**Nota:** Los operadores de comparación devuelven un valor booleano, es decir, True o False."
   ]
  },
  {
   "cell_type": "code",
   "execution_count": 1,
   "metadata": {},
   "outputs": [
    {
     "name": "stdout",
     "output_type": "stream",
     "text": [
      "True\n"
     ]
    }
   ],
   "source": [
    "comparacion = 5 > 3\n",
    "print(comparacion)"
   ]
  },
  {
   "cell_type": "markdown",
   "metadata": {},
   "source": [
    "#### **3. Operadores Lógicos**\n",
    "\n",
    "Los operadores lógicos son los que nos permiten combinar dos valores booleanos. Los operadores lógicos son los siguientes:\n",
    "\n",
    "| Operador | Descripción | Ejemplo |\n",
    "|:--------:|:-----------:|:-------:|\n",
    "| and | Y | True and False |\n",
    "| or | O | True or False |\n",
    "| not | Negación | not True |\n",
    "\n",
    "**Nota:** Al igual que los operadores de comparación, los operadores lógicos devuelven un valor booleano, es decir, True o False."
   ]
  },
  {
   "cell_type": "code",
   "execution_count": null,
   "metadata": {},
   "outputs": [],
   "source": []
  },
  {
   "cell_type": "code",
   "execution_count": 1,
   "metadata": {},
   "outputs": [
    {
     "name": "stdout",
     "output_type": "stream",
     "text": [
      "Operador AND: False\n",
      "Operador OR: True\n",
      "Operador NOT False\n"
     ]
    }
   ],
   "source": [
    "a = True\n",
    "b = False\n",
    "\n",
    "print(\"Operador AND:\", a and b)\n",
    "print(\"Operador OR:\", a or b)\n",
    "print(\"Operador NOT\", not a)"
   ]
  },
  {
   "cell_type": "markdown",
   "metadata": {},
   "source": [
    "#### **4. Operadores de Asignación**\n",
    "\n",
    "Los operadores de asignación son los que nos permiten asignar un valor a una variable. Los operadores de asignación son los siguientes:\n",
    "\n",
    "| Operador | Descripción | Ejemplo |\n",
    "|:--------:|:-----------:|:-------:|\n",
    "| = | Asignación | x = 2 |\n",
    "| += | Suma y asignación | x += 2 |\n",
    "| -= | Resta y asignación | x -= 2 |\n",
    "| *= | Multiplicación y asignación | x *= 2 |\n",
    "| /= | División y asignación | x /= 2 |\n",
    "| %= | Módulo y asignación | x %= 2 |\n",
    "| **= | Exponente y asignación | x **= 2 |\n",
    "| //= | División entera y asignación | x //= 2 |"
   ]
  },
  {
   "cell_type": "code",
   "execution_count": 4,
   "metadata": {},
   "outputs": [
    {
     "name": "stdout",
     "output_type": "stream",
     "text": [
      "5\n",
      "6\n",
      "12\n"
     ]
    }
   ],
   "source": [
    "mi_variable = 5 # Asignación\n",
    "print(mi_variable)\n",
    "mi_variable += 1 # mi_variable = mi_variable + 1\n",
    "print(mi_variable)\n",
    "mi_variable *= 2 # mi_variable = mi_variable * 2\n",
    "print(mi_variable)"
   ]
  },
  {
   "cell_type": "markdown",
   "metadata": {},
   "source": [
    "#### **5. Operadores de Identidad**\n",
    "\n",
    "Los operadores de identidad son los que nos permiten comparar dos objetos. Los operadores de identidad son los siguientes:\n",
    "\n",
    "| Operador | Descripción | Ejemplo |\n",
    "|:--------:|:-----------:|:-------:|\n",
    "| is | Es | 2 is 2 |\n",
    "| is not | No es | 2 is not 3 |\n",
    "\n",
    "Los objetos en Python son identificados por su id, que es un número entero que se asigna al objeto por el intérprete. El id de un objeto no cambia durante su ciclo de vida. El id de un objeto se puede obtener con la función id()."
   ]
  },
  {
   "cell_type": "code",
   "execution_count": 3,
   "metadata": {},
   "outputs": [
    {
     "name": "stdout",
     "output_type": "stream",
     "text": [
      "140734800775640 140734800775640\n",
      "True\n"
     ]
    }
   ],
   "source": [
    "a = 2\n",
    "b = 2\n",
    "print(id(a), id(b))\n",
    "print(a is b)"
   ]
  },
  {
   "cell_type": "markdown",
   "metadata": {},
   "source": [
    "#### **6. Operadores de Pertenencia**\n",
    "\n",
    "Los operadores de pertenencia son los que nos permiten comprobar si un objeto se encuentra dentro de otro objeto. Los operadores de pertenencia son los siguientes:\n",
    "\n",
    "| Operador | Descripción | Ejemplo |\n",
    "|:--------:|:-----------:|:-------:|\n",
    "| in | En | 2 in [1, 2, 3] |\n",
    "| not in | No en | 2 not in [1, 2, 3] |"
   ]
  },
  {
   "cell_type": "code",
   "execution_count": 6,
   "metadata": {},
   "outputs": [
    {
     "name": "stdout",
     "output_type": "stream",
     "text": [
      "True\n",
      "False\n"
     ]
    }
   ],
   "source": [
    "mi_lista = [\"a\", \"b\", \"c\", \"d\"]\n",
    "print(\"c\" in mi_lista)\n",
    "print(\"e\" in mi_lista)"
   ]
  },
  {
   "cell_type": "markdown",
   "metadata": {},
   "source": [
    "#### **7. Operadores de Bits**\n",
    "\n",
    "Los operadores de bits son los que nos permiten realizar operaciones bit a bit entre dos valores. Los operadores de bits son los siguientes:\n",
    "\n",
    "| Operador | Descripción | Ejemplo |\n",
    "|:--------:|:-----------:|:-------:|\n",
    "| & | AND | 2 & 2 |\n",
    "| \\| | OR | 2 \\| 2 |\n",
    "| ^ | XOR | 2 ^ 2 |\n",
    "| ~ | NOT | ~2 |\n",
    "| << | Desplazamiento a la izquierda | 2 << 2 |\n",
    "| >> | Desplazamiento a la derecha | 2 >> 2 |\n",
    "\n",
    "**Nota:** Los operadores de bits no se suelen utilizar en Python."
   ]
  },
  {
   "cell_type": "code",
   "execution_count": 7,
   "metadata": {},
   "outputs": [
    {
     "name": "stdout",
     "output_type": "stream",
     "text": [
      "1 2\n",
      "0\n",
      "3\n",
      "3\n"
     ]
    }
   ],
   "source": [
    "# ejemplos de operadores de bits\n",
    "a = 0b00000001\n",
    "b = 0b00000010\n",
    "print(a, b)\n",
    "print(a & b)\n",
    "print(a | b)\n",
    "print(a ^ b)"
   ]
  },
  {
   "cell_type": "markdown",
   "metadata": {},
   "source": [
    "#### **8. Precedencia de Operadores**\n",
    "\n",
    "El orden en el que se evalúan los operadores en Python es el siguiente:\n",
    "\n",
    "1. Paréntesis ( )\n",
    "2. Exponente **\n",
    "3. Multiplicación *, División /, División entera //, Módulo %\n",
    "4. Suma +, Resta -\n"
   ]
  },
  {
   "cell_type": "code",
   "execution_count": 4,
   "metadata": {},
   "outputs": [
    {
     "name": "stdout",
     "output_type": "stream",
     "text": [
      "53\n",
      "80\n",
      "10.4\n"
     ]
    }
   ],
   "source": [
    "print(10*5+3)\n",
    "print(10*(5 + 3))\n",
    "\n",
    "print(3*3 + 2/5 + 6%5) # Primero multiplicación, luego división, luego módulo, por último suma"
   ]
  }
 ],
 "metadata": {
  "kernelspec": {
   "display_name": "Python 3",
   "language": "python",
   "name": "python3"
  },
  "language_info": {
   "codemirror_mode": {
    "name": "ipython",
    "version": 3
   },
   "file_extension": ".py",
   "mimetype": "text/x-python",
   "name": "python",
   "nbconvert_exporter": "python",
   "pygments_lexer": "ipython3",
   "version": "3.12.0"
  }
 },
 "nbformat": 4,
 "nbformat_minor": 2
}
