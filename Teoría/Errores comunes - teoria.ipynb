{
 "cells": [
  {
   "cell_type": "markdown",
   "metadata": {},
   "source": [
    "# <center>**ERRORES COMUNES EN PYTHON**</center>"
   ]
  },
  {
   "cell_type": "markdown",
   "metadata": {},
   "source": [
    "#### **1. IndentationError: expected an indented block**\n",
    "Este error se produce cuando no se ha indentado correctamente el código. En Python, la indentación es obligatoria, por lo que si no se ha indentado correctamente, el código no funcionará."
   ]
  },
  {
   "cell_type": "code",
   "execution_count": 22,
   "metadata": {},
   "outputs": [
    {
     "ename": "IndentationError",
     "evalue": "expected an indented block after 'if' statement on line 1 (3442977561.py, line 2)",
     "output_type": "error",
     "traceback": [
      "\u001b[1;36m  Cell \u001b[1;32mIn[22], line 2\u001b[1;36m\u001b[0m\n\u001b[1;33m    print(\"Hola\")\u001b[0m\n\u001b[1;37m    ^\u001b[0m\n\u001b[1;31mIndentationError\u001b[0m\u001b[1;31m:\u001b[0m expected an indented block after 'if' statement on line 1\n"
     ]
    }
   ],
   "source": [
    "if True:\n",
    "print(\"Hola\")\n",
    "    "
   ]
  },
  {
   "cell_type": "markdown",
   "metadata": {},
   "source": [
    "#### **2. SyntaxError: invalid syntax**\n",
    "Este error se produce cuando se ha escrito mal la sintaxis de Python. Por ejemplo, si se ha escrito mal una palabra reservada, o se ha olvidado un paréntesis, o se ha escrito mal una variable, etc.\n"
   ]
  },
  {
   "cell_type": "code",
   "execution_count": null,
   "metadata": {},
   "outputs": [
    {
     "ename": "SyntaxError",
     "evalue": "incomplete input (2145965005.py, line 1)",
     "output_type": "error",
     "traceback": [
      "\u001b[1;36m  Cell \u001b[1;32mIn[9], line 1\u001b[1;36m\u001b[0m\n\u001b[1;33m    print(\"Error de sintaxis\"\u001b[0m\n\u001b[1;37m                             ^\u001b[0m\n\u001b[1;31mSyntaxError\u001b[0m\u001b[1;31m:\u001b[0m incomplete input\n"
     ]
    }
   ],
   "source": [
    "print(\"Error de sintaxis\""
   ]
  },
  {
   "cell_type": "markdown",
   "metadata": {},
   "source": [
    "#### **3. NameError: name 'x' is not defined**\n",
    "Este error se produce cuando se intenta utilizar una variable que no ha sido definida. Por ejemplo, si se intenta utilizar la variable x, pero no se ha definido previamente."
   ]
  },
  {
   "cell_type": "code",
   "execution_count": null,
   "metadata": {},
   "outputs": [
    {
     "ename": "NameError",
     "evalue": "name 'c' is not defined",
     "output_type": "error",
     "traceback": [
      "\u001b[1;31m---------------------------------------------------------------------------\u001b[0m",
      "\u001b[1;31mNameError\u001b[0m                                 Traceback (most recent call last)",
      "\u001b[1;32mc:\\Users\\lucia\\OneDrive\\Documentos\\aESCUELA DE PROGRAMACION\\CURSO PYTHON - TEORIA\\EXTRA\\Errores comunes - teoria.ipynb Cell 7\u001b[0m line \u001b[0;36m2\n\u001b[0;32m      <a href='vscode-notebook-cell:/c%3A/Users/lucia/OneDrive/Documentos/aESCUELA%20DE%20PROGRAMACION/CURSO%20PYTHON%20-%20TEORIA/EXTRA/Errores%20comunes%20-%20teoria.ipynb#X10sZmlsZQ%3D%3D?line=0'>1</a>\u001b[0m a \u001b[39m=\u001b[39m \u001b[39m5\u001b[39m\n\u001b[1;32m----> <a href='vscode-notebook-cell:/c%3A/Users/lucia/OneDrive/Documentos/aESCUELA%20DE%20PROGRAMACION/CURSO%20PYTHON%20-%20TEORIA/EXTRA/Errores%20comunes%20-%20teoria.ipynb#X10sZmlsZQ%3D%3D?line=1'>2</a>\u001b[0m \u001b[39mprint\u001b[39m(c)\n",
      "\u001b[1;31mNameError\u001b[0m: name 'c' is not defined"
     ]
    }
   ],
   "source": [
    "a = 5\n",
    "print(c)"
   ]
  },
  {
   "cell_type": "markdown",
   "metadata": {},
   "source": [
    "#### **4. TypeError**\n",
    "##### **'int' object is not iterable**\n",
    "Este error se produce cuando se intenta iterar sobre un objeto que no es iterable. Por ejemplo, si se intenta iterar sobre un número entero, pero los números enteros no son iterables."
   ]
  },
  {
   "cell_type": "code",
   "execution_count": null,
   "metadata": {},
   "outputs": [
    {
     "ename": "TypeError",
     "evalue": "'int' object is not iterable",
     "output_type": "error",
     "traceback": [
      "\u001b[1;31m---------------------------------------------------------------------------\u001b[0m",
      "\u001b[1;31mTypeError\u001b[0m                                 Traceback (most recent call last)",
      "\u001b[1;32mc:\\Users\\lucia\\OneDrive\\Documentos\\aESCUELA DE PROGRAMACION\\CURSO PYTHON - TEORIA\\EXTRA\\Errores comunes - teoria.ipynb Cell 9\u001b[0m line \u001b[0;36m3\n\u001b[0;32m      <a href='vscode-notebook-cell:/c%3A/Users/lucia/OneDrive/Documentos/aESCUELA%20DE%20PROGRAMACION/CURSO%20PYTHON%20-%20TEORIA/EXTRA/Errores%20comunes%20-%20teoria.ipynb#X12sZmlsZQ%3D%3D?line=0'>1</a>\u001b[0m \u001b[39m# crear un ejemplo de TypeError\u001b[39;00m\n\u001b[0;32m      <a href='vscode-notebook-cell:/c%3A/Users/lucia/OneDrive/Documentos/aESCUELA%20DE%20PROGRAMACION/CURSO%20PYTHON%20-%20TEORIA/EXTRA/Errores%20comunes%20-%20teoria.ipynb#X12sZmlsZQ%3D%3D?line=1'>2</a>\u001b[0m a \u001b[39m=\u001b[39m \u001b[39m5\u001b[39m\n\u001b[1;32m----> <a href='vscode-notebook-cell:/c%3A/Users/lucia/OneDrive/Documentos/aESCUELA%20DE%20PROGRAMACION/CURSO%20PYTHON%20-%20TEORIA/EXTRA/Errores%20comunes%20-%20teoria.ipynb#X12sZmlsZQ%3D%3D?line=2'>3</a>\u001b[0m \u001b[39mfor\u001b[39;00m elemento \u001b[39min\u001b[39;00m a:\n\u001b[0;32m      <a href='vscode-notebook-cell:/c%3A/Users/lucia/OneDrive/Documentos/aESCUELA%20DE%20PROGRAMACION/CURSO%20PYTHON%20-%20TEORIA/EXTRA/Errores%20comunes%20-%20teoria.ipynb#X12sZmlsZQ%3D%3D?line=3'>4</a>\u001b[0m     \u001b[39mprint\u001b[39m(elemento)\n",
      "\u001b[1;31mTypeError\u001b[0m: 'int' object is not iterable"
     ]
    }
   ],
   "source": [
    "# crear un ejemplo de TypeError\n",
    "a = 5\n",
    "for elemento in a:\n",
    "    print(elemento)"
   ]
  },
  {
   "cell_type": "markdown",
   "metadata": {},
   "source": [
    "##### **'int' object is not subscriptable**\n",
    "Este error se produce cuando se intenta acceder a un elemento de un objeto que no es subscriptable. Por ejemplo, si se intenta acceder al elemento 0 de un número entero, pero los números enteros no son subscriptables."
   ]
  },
  {
   "cell_type": "code",
   "execution_count": null,
   "metadata": {},
   "outputs": [
    {
     "ename": "TypeError",
     "evalue": "'int' object is not subscriptable",
     "output_type": "error",
     "traceback": [
      "\u001b[1;31m---------------------------------------------------------------------------\u001b[0m",
      "\u001b[1;31mTypeError\u001b[0m                                 Traceback (most recent call last)",
      "\u001b[1;32mc:\\Users\\lucia\\OneDrive\\Documentos\\aESCUELA DE PROGRAMACION\\CURSO PYTHON - TEORIA\\EXTRA\\Errores comunes - teoria.ipynb Cell 11\u001b[0m line \u001b[0;36m2\n\u001b[0;32m      <a href='vscode-notebook-cell:/c%3A/Users/lucia/OneDrive/Documentos/aESCUELA%20DE%20PROGRAMACION/CURSO%20PYTHON%20-%20TEORIA/EXTRA/Errores%20comunes%20-%20teoria.ipynb#X14sZmlsZQ%3D%3D?line=0'>1</a>\u001b[0m b \u001b[39m=\u001b[39m \u001b[39m5\u001b[39m\n\u001b[1;32m----> <a href='vscode-notebook-cell:/c%3A/Users/lucia/OneDrive/Documentos/aESCUELA%20DE%20PROGRAMACION/CURSO%20PYTHON%20-%20TEORIA/EXTRA/Errores%20comunes%20-%20teoria.ipynb#X14sZmlsZQ%3D%3D?line=1'>2</a>\u001b[0m \u001b[39mprint\u001b[39m(b[\u001b[39m0\u001b[39;49m])\n",
      "\u001b[1;31mTypeError\u001b[0m: 'int' object is not subscriptable"
     ]
    }
   ],
   "source": [
    "b = 5\n",
    "print(b[0])"
   ]
  },
  {
   "cell_type": "markdown",
   "metadata": {},
   "source": [
    "##### **'str' object does not support item assignment**\n",
    "Este error se produce cuando se intenta modificar un elemento de un objeto que no es modificable. Por ejemplo, si se intenta modificar el elemento 0 de un string, pero los strings no son modificables."
   ]
  },
  {
   "cell_type": "code",
   "execution_count": null,
   "metadata": {},
   "outputs": [
    {
     "ename": "TypeError",
     "evalue": "'str' object does not support item assignment",
     "output_type": "error",
     "traceback": [
      "\u001b[1;31m---------------------------------------------------------------------------\u001b[0m",
      "\u001b[1;31mTypeError\u001b[0m                                 Traceback (most recent call last)",
      "\u001b[1;32mc:\\Users\\lucia\\OneDrive\\Documentos\\aESCUELA DE PROGRAMACION\\CURSO PYTHON - TEORIA\\EXTRA\\Errores comunes - teoria.ipynb Cell 13\u001b[0m line \u001b[0;36m2\n\u001b[0;32m      <a href='vscode-notebook-cell:/c%3A/Users/lucia/OneDrive/Documentos/aESCUELA%20DE%20PROGRAMACION/CURSO%20PYTHON%20-%20TEORIA/EXTRA/Errores%20comunes%20-%20teoria.ipynb#X16sZmlsZQ%3D%3D?line=0'>1</a>\u001b[0m cadena \u001b[39m=\u001b[39m \u001b[39m\"\u001b[39m\u001b[39merrores\u001b[39m\u001b[39m\"\u001b[39m\n\u001b[1;32m----> <a href='vscode-notebook-cell:/c%3A/Users/lucia/OneDrive/Documentos/aESCUELA%20DE%20PROGRAMACION/CURSO%20PYTHON%20-%20TEORIA/EXTRA/Errores%20comunes%20-%20teoria.ipynb#X16sZmlsZQ%3D%3D?line=1'>2</a>\u001b[0m cadena[\u001b[39m0\u001b[39;49m] \u001b[39m=\u001b[39m \u001b[39m\"\u001b[39m\u001b[39mE\u001b[39m\u001b[39m\"\u001b[39m\n",
      "\u001b[1;31mTypeError\u001b[0m: 'str' object does not support item assignment"
     ]
    }
   ],
   "source": [
    "cadena = \"errores\"\n",
    "cadena[0] = \"E\""
   ]
  },
  {
   "cell_type": "markdown",
   "metadata": {},
   "source": [
    "##### **unsupported operand type(s) for +: 'int' and 'str'**\n",
    "Este error se produce cuando se intenta sumar dos objetos que no se pueden sumar. Por ejemplo, si se intenta sumar un número entero y un string, pero los números enteros y los strings no se pueden sumar."
   ]
  },
  {
   "cell_type": "code",
   "execution_count": null,
   "metadata": {},
   "outputs": [
    {
     "ename": "TypeError",
     "evalue": "unsupported operand type(s) for +: 'int' and 'str'",
     "output_type": "error",
     "traceback": [
      "\u001b[1;31m---------------------------------------------------------------------------\u001b[0m",
      "\u001b[1;31mTypeError\u001b[0m                                 Traceback (most recent call last)",
      "\u001b[1;32mc:\\Users\\lucia\\OneDrive\\Documentos\\aESCUELA DE PROGRAMACION\\CURSO PYTHON - TEORIA\\EXTRA\\Errores comunes - teoria.ipynb Cell 15\u001b[0m line \u001b[0;36m3\n\u001b[0;32m      <a href='vscode-notebook-cell:/c%3A/Users/lucia/OneDrive/Documentos/aESCUELA%20DE%20PROGRAMACION/CURSO%20PYTHON%20-%20TEORIA/EXTRA/Errores%20comunes%20-%20teoria.ipynb#X21sZmlsZQ%3D%3D?line=0'>1</a>\u001b[0m aa \u001b[39m=\u001b[39m \u001b[39m10\u001b[39m\n\u001b[0;32m      <a href='vscode-notebook-cell:/c%3A/Users/lucia/OneDrive/Documentos/aESCUELA%20DE%20PROGRAMACION/CURSO%20PYTHON%20-%20TEORIA/EXTRA/Errores%20comunes%20-%20teoria.ipynb#X21sZmlsZQ%3D%3D?line=1'>2</a>\u001b[0m bb \u001b[39m=\u001b[39m \u001b[39m\"\u001b[39m\u001b[39mHola\u001b[39m\u001b[39m\"\u001b[39m\n\u001b[1;32m----> <a href='vscode-notebook-cell:/c%3A/Users/lucia/OneDrive/Documentos/aESCUELA%20DE%20PROGRAMACION/CURSO%20PYTHON%20-%20TEORIA/EXTRA/Errores%20comunes%20-%20teoria.ipynb#X21sZmlsZQ%3D%3D?line=2'>3</a>\u001b[0m \u001b[39mprint\u001b[39m(aa \u001b[39m+\u001b[39;49m bb)\n",
      "\u001b[1;31mTypeError\u001b[0m: unsupported operand type(s) for +: 'int' and 'str'"
     ]
    }
   ],
   "source": [
    "aa = 10\n",
    "bb = \"Hola\"\n",
    "print(aa + bb)"
   ]
  },
  {
   "cell_type": "markdown",
   "metadata": {},
   "source": [
    "#### **5. ValueError: invalid literal for int() with base 10: 'x'**\n",
    "Este error se produce cuando se intenta convertir un string a un número entero, pero el string no es un número entero. Por ejemplo, si se intenta convertir el string 'hola' a un número entero, pero 'hola' no es un número entero."
   ]
  },
  {
   "cell_type": "code",
   "execution_count": 1,
   "metadata": {},
   "outputs": [
    {
     "ename": "ValueError",
     "evalue": "invalid literal for int() with base 10: 'hola'",
     "output_type": "error",
     "traceback": [
      "\u001b[1;31m---------------------------------------------------------------------------\u001b[0m",
      "\u001b[1;31mValueError\u001b[0m                                Traceback (most recent call last)",
      "\u001b[1;32md:\\PROGRAMACION\\Pruebas Visual Studio Code\\Errores comunes - teoria.ipynb Cell 17\u001b[0m line \u001b[0;36m2\n\u001b[0;32m      <a href='vscode-notebook-cell:/d%3A/PROGRAMACION/Pruebas%20Visual%20Studio%20Code/Errores%20comunes%20-%20teoria.ipynb#X22sZmlsZQ%3D%3D?line=0'>1</a>\u001b[0m variable \u001b[39m=\u001b[39m \u001b[39m\"\u001b[39m\u001b[39mhola\u001b[39m\u001b[39m\"\u001b[39m\n\u001b[1;32m----> <a href='vscode-notebook-cell:/d%3A/PROGRAMACION/Pruebas%20Visual%20Studio%20Code/Errores%20comunes%20-%20teoria.ipynb#X22sZmlsZQ%3D%3D?line=1'>2</a>\u001b[0m variable_entera \u001b[39m=\u001b[39m \u001b[39mint\u001b[39;49m(variable)\n",
      "\u001b[1;31mValueError\u001b[0m: invalid literal for int() with base 10: 'hola'"
     ]
    }
   ],
   "source": [
    "variable = \"hola\"\n",
    "variable_entera = int(variable)"
   ]
  },
  {
   "cell_type": "markdown",
   "metadata": {},
   "source": [
    "#### **6. IndexError: list index out of range**\n",
    "Este error se produce cuando se intenta acceder a un elemento de una lista que no existe. Por ejemplo, si se intenta acceder al elemento 10 de una lista que solo tiene 5 elementos."
   ]
  },
  {
   "cell_type": "code",
   "execution_count": null,
   "metadata": {},
   "outputs": [
    {
     "ename": "IndexError",
     "evalue": "list index out of range",
     "output_type": "error",
     "traceback": [
      "\u001b[1;31m---------------------------------------------------------------------------\u001b[0m",
      "\u001b[1;31mIndexError\u001b[0m                                Traceback (most recent call last)",
      "\u001b[1;32mc:\\Users\\lucia\\OneDrive\\Documentos\\aESCUELA DE PROGRAMACION\\CURSO PYTHON - TEORIA\\EXTRA\\Errores comunes - teoria.ipynb Cell 19\u001b[0m line \u001b[0;36m2\n\u001b[0;32m      <a href='vscode-notebook-cell:/c%3A/Users/lucia/OneDrive/Documentos/aESCUELA%20DE%20PROGRAMACION/CURSO%20PYTHON%20-%20TEORIA/EXTRA/Errores%20comunes%20-%20teoria.ipynb#X30sZmlsZQ%3D%3D?line=0'>1</a>\u001b[0m lista \u001b[39m=\u001b[39m [\u001b[39m1\u001b[39m, \u001b[39m2\u001b[39m, \u001b[39m3\u001b[39m]\n\u001b[1;32m----> <a href='vscode-notebook-cell:/c%3A/Users/lucia/OneDrive/Documentos/aESCUELA%20DE%20PROGRAMACION/CURSO%20PYTHON%20-%20TEORIA/EXTRA/Errores%20comunes%20-%20teoria.ipynb#X30sZmlsZQ%3D%3D?line=1'>2</a>\u001b[0m \u001b[39mprint\u001b[39m(lista[\u001b[39m10\u001b[39;49m])\n",
      "\u001b[1;31mIndexError\u001b[0m: list index out of range"
     ]
    }
   ],
   "source": [
    "lista = [1, 2, 3]\n",
    "print(lista[10])"
   ]
  },
  {
   "cell_type": "markdown",
   "metadata": {},
   "source": [
    "#### **7. KeyError: 'x'**\n",
    "Este error se produce cuando se intenta acceder a un elemento de un diccionario que no existe. Por ejemplo, si se intenta acceder al elemento 'hola' de un diccionario que solo tiene los elementos 'adios' y 'hasta luego'."
   ]
  },
  {
   "cell_type": "code",
   "execution_count": null,
   "metadata": {},
   "outputs": [
    {
     "ename": "KeyError",
     "evalue": "'c'",
     "output_type": "error",
     "traceback": [
      "\u001b[1;31m---------------------------------------------------------------------------\u001b[0m",
      "\u001b[1;31mKeyError\u001b[0m                                  Traceback (most recent call last)",
      "\u001b[1;32mc:\\Users\\lucia\\OneDrive\\Documentos\\aESCUELA DE PROGRAMACION\\CURSO PYTHON - TEORIA\\EXTRA\\Errores comunes - teoria.ipynb Cell 21\u001b[0m line \u001b[0;36m2\n\u001b[0;32m      <a href='vscode-notebook-cell:/c%3A/Users/lucia/OneDrive/Documentos/aESCUELA%20DE%20PROGRAMACION/CURSO%20PYTHON%20-%20TEORIA/EXTRA/Errores%20comunes%20-%20teoria.ipynb#X32sZmlsZQ%3D%3D?line=0'>1</a>\u001b[0m diccionario \u001b[39m=\u001b[39m {\u001b[39m\"\u001b[39m\u001b[39ma\u001b[39m\u001b[39m\"\u001b[39m: \u001b[39m1\u001b[39m, \u001b[39m\"\u001b[39m\u001b[39mb\u001b[39m\u001b[39m\"\u001b[39m: \u001b[39m2\u001b[39m}\n\u001b[1;32m----> <a href='vscode-notebook-cell:/c%3A/Users/lucia/OneDrive/Documentos/aESCUELA%20DE%20PROGRAMACION/CURSO%20PYTHON%20-%20TEORIA/EXTRA/Errores%20comunes%20-%20teoria.ipynb#X32sZmlsZQ%3D%3D?line=1'>2</a>\u001b[0m \u001b[39mprint\u001b[39m(diccionario[\u001b[39m\"\u001b[39;49m\u001b[39mc\u001b[39;49m\u001b[39m\"\u001b[39;49m])\n",
      "\u001b[1;31mKeyError\u001b[0m: 'c'"
     ]
    }
   ],
   "source": [
    "diccionario = {\"a\": 1, \"b\": 2}\n",
    "print(diccionario[\"c\"])"
   ]
  },
  {
   "cell_type": "markdown",
   "metadata": {},
   "source": [
    "#### **8. AttributeError: 'x' object has no attribute 'y'**\n",
    "Este error se produce cuando se intenta acceder a un atributo de un objeto que no existe. Por ejemplo, si se intenta acceder al atributo 'nombre' de un objeto que solo tiene los atributos 'edad' y 'dni'."
   ]
  },
  {
   "cell_type": "code",
   "execution_count": null,
   "metadata": {},
   "outputs": [
    {
     "ename": "AttributeError",
     "evalue": "'Alumno' object has no attribute 'nombre'",
     "output_type": "error",
     "traceback": [
      "\u001b[1;31m---------------------------------------------------------------------------\u001b[0m",
      "\u001b[1;31mAttributeError\u001b[0m                            Traceback (most recent call last)",
      "\u001b[1;32mc:\\Users\\lucia\\OneDrive\\Documentos\\aESCUELA DE PROGRAMACION\\CURSO PYTHON - TEORIA\\EXTRA\\Errores comunes - teoria.ipynb Cell 23\u001b[0m line \u001b[0;36m8\n\u001b[0;32m      <a href='vscode-notebook-cell:/c%3A/Users/lucia/OneDrive/Documentos/aESCUELA%20DE%20PROGRAMACION/CURSO%20PYTHON%20-%20TEORIA/EXTRA/Errores%20comunes%20-%20teoria.ipynb#X34sZmlsZQ%3D%3D?line=4'>5</a>\u001b[0m         \u001b[39mself\u001b[39m\u001b[39m.\u001b[39mdni \u001b[39m=\u001b[39m _dni\n\u001b[0;32m      <a href='vscode-notebook-cell:/c%3A/Users/lucia/OneDrive/Documentos/aESCUELA%20DE%20PROGRAMACION/CURSO%20PYTHON%20-%20TEORIA/EXTRA/Errores%20comunes%20-%20teoria.ipynb#X34sZmlsZQ%3D%3D?line=6'>7</a>\u001b[0m alumno_1 \u001b[39m=\u001b[39m Alumno(\u001b[39m5\u001b[39m, \u001b[39m12345678\u001b[39m)\n\u001b[1;32m----> <a href='vscode-notebook-cell:/c%3A/Users/lucia/OneDrive/Documentos/aESCUELA%20DE%20PROGRAMACION/CURSO%20PYTHON%20-%20TEORIA/EXTRA/Errores%20comunes%20-%20teoria.ipynb#X34sZmlsZQ%3D%3D?line=7'>8</a>\u001b[0m \u001b[39mprint\u001b[39m(alumno_1\u001b[39m.\u001b[39;49mnombre)\n",
      "\u001b[1;31mAttributeError\u001b[0m: 'Alumno' object has no attribute 'nombre'"
     ]
    }
   ],
   "source": [
    "#crear un ejemplo de AttributeError\n",
    "class Alumno:\n",
    "    def __init__(self, _edad, _dni):\n",
    "        self.edad = _edad\n",
    "        self.dni = _dni\n",
    "\n",
    "alumno_1 = Alumno(5, 12345678)\n",
    "print(alumno_1.nombre)"
   ]
  },
  {
   "cell_type": "markdown",
   "metadata": {},
   "source": [
    "#### **9. ZeroDivisionError: division by zero**\n",
    "Este error se produce cuando se intenta dividir un número por cero. Por ejemplo, si se intenta dividir el número 5 por cero."
   ]
  },
  {
   "cell_type": "code",
   "execution_count": null,
   "metadata": {},
   "outputs": [
    {
     "ename": "ZeroDivisionError",
     "evalue": "division by zero",
     "output_type": "error",
     "traceback": [
      "\u001b[1;31m---------------------------------------------------------------------------\u001b[0m",
      "\u001b[1;31mZeroDivisionError\u001b[0m                         Traceback (most recent call last)",
      "\u001b[1;32mc:\\Users\\lucia\\OneDrive\\Documentos\\aESCUELA DE PROGRAMACION\\CURSO PYTHON - TEORIA\\EXTRA\\Errores comunes - teoria.ipynb Cell 25\u001b[0m line \u001b[0;36m1\n\u001b[1;32m----> <a href='vscode-notebook-cell:/c%3A/Users/lucia/OneDrive/Documentos/aESCUELA%20DE%20PROGRAMACION/CURSO%20PYTHON%20-%20TEORIA/EXTRA/Errores%20comunes%20-%20teoria.ipynb#X36sZmlsZQ%3D%3D?line=0'>1</a>\u001b[0m division_invalida \u001b[39m=\u001b[39m \u001b[39m5\u001b[39;49m \u001b[39m/\u001b[39;49m \u001b[39m0\u001b[39;49m\n",
      "\u001b[1;31mZeroDivisionError\u001b[0m: division by zero"
     ]
    }
   ],
   "source": [
    "division_invalida = 5 / 0"
   ]
  },
  {
   "cell_type": "markdown",
   "metadata": {},
   "source": [
    "#### **10. ModuleNotFoundError: No module named 'x'**\n",
    "Este error se produce cuando se intenta importar un módulo que no existe. Por ejemplo, si se intenta importar el módulo 'hola', pero no existe el módulo 'hola'."
   ]
  },
  {
   "cell_type": "code",
   "execution_count": null,
   "metadata": {},
   "outputs": [
    {
     "ename": "ModuleNotFoundError",
     "evalue": "No module named 'modulo_inexistente'",
     "output_type": "error",
     "traceback": [
      "\u001b[1;31m---------------------------------------------------------------------------\u001b[0m",
      "\u001b[1;31mModuleNotFoundError\u001b[0m                       Traceback (most recent call last)",
      "\u001b[1;32mc:\\Users\\lucia\\OneDrive\\Documentos\\aESCUELA DE PROGRAMACION\\CURSO PYTHON - TEORIA\\EXTRA\\Errores comunes - teoria.ipynb Cell 27\u001b[0m line \u001b[0;36m1\n\u001b[1;32m----> <a href='vscode-notebook-cell:/c%3A/Users/lucia/OneDrive/Documentos/aESCUELA%20DE%20PROGRAMACION/CURSO%20PYTHON%20-%20TEORIA/EXTRA/Errores%20comunes%20-%20teoria.ipynb#X41sZmlsZQ%3D%3D?line=0'>1</a>\u001b[0m \u001b[39mimport\u001b[39;00m \u001b[39mmodulo_inexistente\u001b[39;00m\n",
      "\u001b[1;31mModuleNotFoundError\u001b[0m: No module named 'modulo_inexistente'"
     ]
    }
   ],
   "source": [
    "import modulo_inexistente"
   ]
  },
  {
   "cell_type": "markdown",
   "metadata": {},
   "source": [
    "#### **11. FileNotFoundError: [Errno 2] No such file or directory: 'x'**\n",
    "Este error se produce cuando se intenta abrir un archivo que no existe. Por ejemplo, si se intenta abrir el archivo 'hola.txt', pero no existe el archivo 'hola.txt'."
   ]
  },
  {
   "cell_type": "code",
   "execution_count": null,
   "metadata": {},
   "outputs": [
    {
     "ename": "FileNotFoundError",
     "evalue": "[Errno 2] No such file or directory: 'archivo_que_no_existe.txt'",
     "output_type": "error",
     "traceback": [
      "\u001b[1;31m---------------------------------------------------------------------------\u001b[0m",
      "\u001b[1;31mFileNotFoundError\u001b[0m                         Traceback (most recent call last)",
      "\u001b[1;32mc:\\Users\\lucia\\OneDrive\\Documentos\\aESCUELA DE PROGRAMACION\\CURSO PYTHON - TEORIA\\EXTRA\\Errores comunes - teoria.ipynb Cell 29\u001b[0m line \u001b[0;36m1\n\u001b[1;32m----> <a href='vscode-notebook-cell:/c%3A/Users/lucia/OneDrive/Documentos/aESCUELA%20DE%20PROGRAMACION/CURSO%20PYTHON%20-%20TEORIA/EXTRA/Errores%20comunes%20-%20teoria.ipynb#X43sZmlsZQ%3D%3D?line=0'>1</a>\u001b[0m \u001b[39mopen\u001b[39;49m(\u001b[39m\"\u001b[39;49m\u001b[39marchivo_que_no_existe.txt\u001b[39;49m\u001b[39m\"\u001b[39;49m)\n",
      "File \u001b[1;32m~\\AppData\\Roaming\\Python\\Python311\\site-packages\\IPython\\core\\interactiveshell.py:284\u001b[0m, in \u001b[0;36m_modified_open\u001b[1;34m(file, *args, **kwargs)\u001b[0m\n\u001b[0;32m    277\u001b[0m \u001b[39mif\u001b[39;00m file \u001b[39min\u001b[39;00m {\u001b[39m0\u001b[39m, \u001b[39m1\u001b[39m, \u001b[39m2\u001b[39m}:\n\u001b[0;32m    278\u001b[0m     \u001b[39mraise\u001b[39;00m \u001b[39mValueError\u001b[39;00m(\n\u001b[0;32m    279\u001b[0m         \u001b[39mf\u001b[39m\u001b[39m\"\u001b[39m\u001b[39mIPython won\u001b[39m\u001b[39m'\u001b[39m\u001b[39mt let you open fd=\u001b[39m\u001b[39m{\u001b[39;00mfile\u001b[39m}\u001b[39;00m\u001b[39m by default \u001b[39m\u001b[39m\"\u001b[39m\n\u001b[0;32m    280\u001b[0m         \u001b[39m\"\u001b[39m\u001b[39mas it is likely to crash IPython. If you know what you are doing, \u001b[39m\u001b[39m\"\u001b[39m\n\u001b[0;32m    281\u001b[0m         \u001b[39m\"\u001b[39m\u001b[39myou can use builtins\u001b[39m\u001b[39m'\u001b[39m\u001b[39m open.\u001b[39m\u001b[39m\"\u001b[39m\n\u001b[0;32m    282\u001b[0m     )\n\u001b[1;32m--> 284\u001b[0m \u001b[39mreturn\u001b[39;00m io_open(file, \u001b[39m*\u001b[39;49margs, \u001b[39m*\u001b[39;49m\u001b[39m*\u001b[39;49mkwargs)\n",
      "\u001b[1;31mFileNotFoundError\u001b[0m: [Errno 2] No such file or directory: 'archivo_que_no_existe.txt'"
     ]
    }
   ],
   "source": [
    "open(\"archivo_que_no_existe.txt\")"
   ]
  },
  {
   "cell_type": "markdown",
   "metadata": {},
   "source": [
    "#### **12. RecursionError: maximum recursion depth exceeded in comparison**\n",
    "Este error se produce cuando se ha hecho una recursión infinita. Por ejemplo, si se ha hecho una función recursiva que no tiene caso base."
   ]
  },
  {
   "cell_type": "code",
   "execution_count": null,
   "metadata": {},
   "outputs": [
    {
     "ename": "RecursionError",
     "evalue": "maximum recursion depth exceeded",
     "output_type": "error",
     "traceback": [
      "\u001b[1;31m---------------------------------------------------------------------------\u001b[0m",
      "\u001b[1;31mRecursionError\u001b[0m                            Traceback (most recent call last)",
      "\u001b[1;32mc:\\Users\\lucia\\OneDrive\\Documentos\\aESCUELA DE PROGRAMACION\\CURSO PYTHON - TEORIA\\EXTRA\\Errores comunes - teoria.ipynb Cell 31\u001b[0m line \u001b[0;36m4\n\u001b[0;32m      <a href='vscode-notebook-cell:/c%3A/Users/lucia/OneDrive/Documentos/aESCUELA%20DE%20PROGRAMACION/CURSO%20PYTHON%20-%20TEORIA/EXTRA/Errores%20comunes%20-%20teoria.ipynb#X45sZmlsZQ%3D%3D?line=0'>1</a>\u001b[0m \u001b[39mdef\u001b[39;00m \u001b[39mfuncion_recursiva\u001b[39m():\n\u001b[0;32m      <a href='vscode-notebook-cell:/c%3A/Users/lucia/OneDrive/Documentos/aESCUELA%20DE%20PROGRAMACION/CURSO%20PYTHON%20-%20TEORIA/EXTRA/Errores%20comunes%20-%20teoria.ipynb#X45sZmlsZQ%3D%3D?line=1'>2</a>\u001b[0m     funcion_recursiva()\n\u001b[1;32m----> <a href='vscode-notebook-cell:/c%3A/Users/lucia/OneDrive/Documentos/aESCUELA%20DE%20PROGRAMACION/CURSO%20PYTHON%20-%20TEORIA/EXTRA/Errores%20comunes%20-%20teoria.ipynb#X45sZmlsZQ%3D%3D?line=3'>4</a>\u001b[0m funcion_recursiva()\n",
      "\u001b[1;32mc:\\Users\\lucia\\OneDrive\\Documentos\\aESCUELA DE PROGRAMACION\\CURSO PYTHON - TEORIA\\EXTRA\\Errores comunes - teoria.ipynb Cell 31\u001b[0m line \u001b[0;36m2\n\u001b[0;32m      <a href='vscode-notebook-cell:/c%3A/Users/lucia/OneDrive/Documentos/aESCUELA%20DE%20PROGRAMACION/CURSO%20PYTHON%20-%20TEORIA/EXTRA/Errores%20comunes%20-%20teoria.ipynb#X45sZmlsZQ%3D%3D?line=0'>1</a>\u001b[0m \u001b[39mdef\u001b[39;00m \u001b[39mfuncion_recursiva\u001b[39m():\n\u001b[1;32m----> <a href='vscode-notebook-cell:/c%3A/Users/lucia/OneDrive/Documentos/aESCUELA%20DE%20PROGRAMACION/CURSO%20PYTHON%20-%20TEORIA/EXTRA/Errores%20comunes%20-%20teoria.ipynb#X45sZmlsZQ%3D%3D?line=1'>2</a>\u001b[0m     funcion_recursiva()\n",
      "\u001b[1;32mc:\\Users\\lucia\\OneDrive\\Documentos\\aESCUELA DE PROGRAMACION\\CURSO PYTHON - TEORIA\\EXTRA\\Errores comunes - teoria.ipynb Cell 31\u001b[0m line \u001b[0;36m2\n\u001b[0;32m      <a href='vscode-notebook-cell:/c%3A/Users/lucia/OneDrive/Documentos/aESCUELA%20DE%20PROGRAMACION/CURSO%20PYTHON%20-%20TEORIA/EXTRA/Errores%20comunes%20-%20teoria.ipynb#X45sZmlsZQ%3D%3D?line=0'>1</a>\u001b[0m \u001b[39mdef\u001b[39;00m \u001b[39mfuncion_recursiva\u001b[39m():\n\u001b[1;32m----> <a href='vscode-notebook-cell:/c%3A/Users/lucia/OneDrive/Documentos/aESCUELA%20DE%20PROGRAMACION/CURSO%20PYTHON%20-%20TEORIA/EXTRA/Errores%20comunes%20-%20teoria.ipynb#X45sZmlsZQ%3D%3D?line=1'>2</a>\u001b[0m     funcion_recursiva()\n",
      "    \u001b[1;31m[... skipping similar frames: funcion_recursiva at line 2 (2971 times)]\u001b[0m\n",
      "\u001b[1;32mc:\\Users\\lucia\\OneDrive\\Documentos\\aESCUELA DE PROGRAMACION\\CURSO PYTHON - TEORIA\\EXTRA\\Errores comunes - teoria.ipynb Cell 31\u001b[0m line \u001b[0;36m2\n\u001b[0;32m      <a href='vscode-notebook-cell:/c%3A/Users/lucia/OneDrive/Documentos/aESCUELA%20DE%20PROGRAMACION/CURSO%20PYTHON%20-%20TEORIA/EXTRA/Errores%20comunes%20-%20teoria.ipynb#X45sZmlsZQ%3D%3D?line=0'>1</a>\u001b[0m \u001b[39mdef\u001b[39;00m \u001b[39mfuncion_recursiva\u001b[39m():\n\u001b[1;32m----> <a href='vscode-notebook-cell:/c%3A/Users/lucia/OneDrive/Documentos/aESCUELA%20DE%20PROGRAMACION/CURSO%20PYTHON%20-%20TEORIA/EXTRA/Errores%20comunes%20-%20teoria.ipynb#X45sZmlsZQ%3D%3D?line=1'>2</a>\u001b[0m     funcion_recursiva()\n",
      "\u001b[1;31mRecursionError\u001b[0m: maximum recursion depth exceeded"
     ]
    }
   ],
   "source": [
    "def funcion_recursiva():\n",
    "    funcion_recursiva()\n",
    "    \n",
    "funcion_recursiva()"
   ]
  }
 ],
 "metadata": {
  "kernelspec": {
   "display_name": "Python 3",
   "language": "python",
   "name": "python3"
  },
  "language_info": {
   "codemirror_mode": {
    "name": "ipython",
    "version": 3
   },
   "file_extension": ".py",
   "mimetype": "text/x-python",
   "name": "python",
   "nbconvert_exporter": "python",
   "pygments_lexer": "ipython3",
   "version": "3.12.0"
  }
 },
 "nbformat": 4,
 "nbformat_minor": 2
}
