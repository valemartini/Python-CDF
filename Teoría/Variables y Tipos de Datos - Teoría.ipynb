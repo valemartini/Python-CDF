{
 "cells": [
  {
   "attachments": {},
   "cell_type": "markdown",
   "metadata": {},
   "source": [
    "# <center>**01 - VARIABLES Y TIPOS DE DATOS**</center>"
   ]
  },
  {
   "attachments": {},
   "cell_type": "markdown",
   "metadata": {},
   "source": [
    "#### 1. <u>**Variables**</u>\n"
   ]
  },
  {
   "attachments": {},
   "cell_type": "markdown",
   "metadata": {},
   "source": [
    "\n",
    "Una variable es un espacio en memoria que se utiliza para almacenar un valor. En Python, las variables se crean cuando se les asigna un valor. No es necesario declararlas previamente como en otros lenguajes de programación. El tipo de dato de la variable se determina en tiempo de ejecución, según el valor que se le asigne.\n",
    "\n",
    "Para asignar un valor a una variable se utiliza el operador de asignación **=**. El valor de la derecha se asigna a la variable de la izquierda.\n",
    "\n",
    "**Ejemplos:**\n"
   ]
  },
  {
   "cell_type": "code",
   "execution_count": 1,
   "metadata": {},
   "outputs": [],
   "source": [
    "a = 5\n",
    "b = 3.14\n",
    "c = \"Hola\""
   ]
  },
  {
   "attachments": {},
   "cell_type": "markdown",
   "metadata": {},
   "source": [
    "En el ejemplo anterior, se crearon tres variables: a, b y c. La variable a es de tipo **entero**, la variable b es de tipo **flotante** y la variable c es de tipo **cadena de caracteres**.\n",
    "\n",
    "Para mostrar el valor de una variable se utiliza la función **print()**. \n",
    "\n",
    "**Ejemplos:**\n"
   ]
  },
  {
   "cell_type": "code",
   "execution_count": 2,
   "metadata": {},
   "outputs": [
    {
     "name": "stdout",
     "output_type": "stream",
     "text": [
      "5\n",
      "3.14\n",
      "Hola\n"
     ]
    }
   ],
   "source": [
    "print(a)\n",
    "print(b)\n",
    "print(c)"
   ]
  },
  {
   "attachments": {},
   "cell_type": "markdown",
   "metadata": {},
   "source": [
    "\n",
    "Los nombres de las variables pueden contener letras, números y el carácter guión bajo ( **_** ). No pueden comenzar con un número. Python distingue entre \n",
    "mayúsculas y minúsculas, por lo que las variables **a** y **A** son diferentes.  \n",
    "  \n",
    "**En la funcion **print( )** podemos escribir texto utilizando comillas **\" \"**. Para imprimir el valor de una variable luego de un texto se separa con una coma ( **,** ) .*\n",
    "\n",
    "**Ejemplos:**\n"
   ]
  },
  {
   "cell_type": "code",
   "execution_count": 6,
   "metadata": {},
   "outputs": [
    {
     "name": "stdout",
     "output_type": "stream",
     "text": [
      "La variable a es: 5 y la variable A es: 10\n"
     ]
    }
   ],
   "source": [
    "\n",
    "a = 5\n",
    "A = 10\n",
    "print(\"La variable a es:\", a, \"y la variable A es:\", A)"
   ]
  },
  {
   "attachments": {},
   "cell_type": "markdown",
   "metadata": {},
   "source": [
    "\n",
    "Los nombres de las variables deben ser descriptivos, para que el código sea más fácil de entender. Por ejemplo, si se desea almacenar el nombre de una persona, se puede utilizar la variable **nombre**. Si se desea almacenar la edad de una persona, se puede utilizar la variable **edad**.  \n",
    "  \n",
    "**Si utilizamos f antes de las comillas, podemos utilizar variables dentro de la cadena de texto, utilizando llaves **{ }** para indicar que es una variable.*\n"
   ]
  },
  {
   "cell_type": "code",
   "execution_count": 10,
   "metadata": {},
   "outputs": [
    {
     "name": "stdout",
     "output_type": "stream",
     "text": [
      "Mi nombre es: Juan y tengo 25 años\n"
     ]
    }
   ],
   "source": [
    "nombre=\"Juan\"\n",
    "edad=25\n",
    "print(f\"Mi nombre es: {nombre} y tengo {edad} años\") "
   ]
  },
  {
   "attachments": {},
   "cell_type": "markdown",
   "metadata": {},
   "source": [
    "##### <u>Convención de nombres</u>\n"
   ]
  },
  {
   "attachments": {},
   "cell_type": "markdown",
   "metadata": {},
   "source": [
    "\n",
    "Para simplificar la tarea de leer el código, se utilizan algunas convenciones para nombrar las variables, funciones, clases, etc.  \n",
    "\n",
    "**Convenciones para nombrar variables:**\n",
    "* Se utiliza minúscula para el primer caracter del nombre de la variable.\n",
    "* Si el nombre de la variable está compuesto por más de una palabra, se separan las palabras con guión bajo ( **_** ).  \n",
    "  \n",
    "**Ejemplos:**  \n",
    "\n",
    "```python\n",
    "variable = 10\n",
    "numero_decimal = 5.78\n",
    "apellido_persona = \"Perez\"\n",
    "```\n",
    "**Convenciones para nombrar funciones:**\n",
    "* Se utiliza la misma convención que para las variables.\n",
    "\n",
    "**Ejemplos:**  \n",
    "\n",
    "```python\n",
    "def calcular_area_circulo(radio):\n",
    "    area = 3.14 * radio ** 2\n",
    "    return area\n",
    "\n",
    "def contar(n):\n",
    "    for i in range(n):\n",
    "        print(i)\n",
    "```\n",
    "**Convenciones para nombrar clases:**\n",
    "* Se utiliza mayúscula para el primer caracter del nombre de la clase.\n",
    "* Si el nombre de la clase está compuesto por más de una palabra, se utiliza mayúscula para el primer caracter de cada palabra.\n",
    "\n",
    "**Ejemplos:**  \n",
    "\n",
    "```python\n",
    "class Persona:\n",
    "    def __init__(self, nombre, apellido):\n",
    "        self.nombre = nombre\n",
    "        self.apellido = apellido\n",
    "class UsarApiClima:\n",
    "    def __init__(self, api_key):\n",
    "        self.api_key = api_key\n",
    "```\n",
    "\n",
    "**Convenciones para nombrar constantes:**\n",
    "* Se utiliza mayúscula para el nombre de la constante.\n",
    "* Si el nombre de la constante está compuesto por más de una palabra, se separan las palabras con guión bajo ( **_** ).\n",
    "\n",
    "**Ejemplos:**  \n",
    "\n",
    "```python\n",
    "PI = 3.14\n",
    "VELOCIDAD_LUZ = 299792458\n",
    "```\n",
    "**Convenciones para nombrar módulos:**\n",
    "* Se utiliza minúscula para el nombre del módulo.\n",
    "* Si el nombre del módulo está compuesto por más de una palabra, se separan las palabras con guión bajo ( **_** ).\n",
    "\n",
    "**Ejemplos:**  \n",
    "\n",
    "```python\n",
    "import math\n",
    "import random\n",
    "import mi_modulo\n",
    "```"
   ]
  },
  {
   "attachments": {},
   "cell_type": "markdown",
   "metadata": {},
   "source": [
    "\n",
    "#### 2. <u>**Tipos de datos**</u>\n"
   ]
  },
  {
   "attachments": {},
   "cell_type": "markdown",
   "metadata": {},
   "source": [
    "\n",
    "En Python existen varios tipos de datos. Para saber el tipo de dato de una variable se utiliza la función **type()**.\n",
    "Los más utilizados son:\n",
    "##### **Números**\n",
    "\n",
    "Los números se clasifican en:\n",
    "- Enteros **(int)**: Los números enteros son aquellos que no tienen parte decimal. Por ejemplo: 1, 2, 3, 4, 5, etc.\n",
    "- Flotantes **(float)**: Los números flotantes son aquellos que tienen parte decimal. Por ejemplo: 1.2, 3.14, 5.678, etc.  \n",
    "  \n",
    "**Para escribir un número flotante se utiliza el carácter punto (.) como separador decimal.*\n",
    "\n",
    "**Ejemplos:**"
   ]
  },
  {
   "cell_type": "code",
   "execution_count": 1,
   "metadata": {},
   "outputs": [
    {
     "name": "stdout",
     "output_type": "stream",
     "text": [
      "La variable a es de tipo: <class 'int'> y la variable b es de tipo: <class 'float'>\n"
     ]
    }
   ],
   "source": [
    "a = 10 # Entero\n",
    "b = 5.78 # Flotante\n",
    "print(\"La variable a es de tipo:\", type(a), \"y la variable b es de tipo:\", type(b))"
   ]
  },
  {
   "cell_type": "markdown",
   "metadata": {},
   "source": [
    "##### **Operaciones entre números**\n",
    "\n",
    "Para realizar operaciones entre números se utilizan los siguientes operadores:\n",
    "- Suma **(+)**: Se utiliza para sumar dos números.\n",
    "- Resta **(-)**: Se utiliza para restar dos números.\n",
    "- Multiplicación **(*)**: Se utiliza para multiplicar dos números.\n",
    "- División **(/)**: Se utiliza para dividir dos números.\n",
    "- División entera **(//)**: Se utiliza para dividir dos números y obtener el cociente entero.\n",
    "- Módulo **(%)**: Se utiliza para obtener el resto de la división entre dos números.\n",
    "- Potencia (**): Se utiliza para elevar un número a otro número."
   ]
  },
  {
   "attachments": {},
   "cell_type": "markdown",
   "metadata": {},
   "source": [
    "\n",
    "##### **Cadenas de caracteres**\n",
    "\n",
    "Las cadenas de caracteres o strings se utilizan para almacenar texto. Para escribir una cadena de caracteres se utilizan comillas simples ('') o dobles (\"\"). Por ejemplo: 'Hola', \"Mundo\", '123', \"3.14\", etc.\n",
    "\n",
    "Las cadenas de caracteres se pueden concatenar utilizando el operador **+**.\n",
    "\n",
    "**Ejemplo:**\n"
   ]
  },
  {
   "cell_type": "code",
   "execution_count": 11,
   "metadata": {},
   "outputs": [
    {
     "name": "stdout",
     "output_type": "stream",
     "text": [
      "HolaMundo\n"
     ]
    }
   ],
   "source": [
    "a = \"Hola\"\n",
    "b = \"Mundo\"\n",
    "print(a+b)"
   ]
  },
  {
   "attachments": {},
   "cell_type": "markdown",
   "metadata": {},
   "source": [
    "Cuando se desea escribir una cadena de caracteres que ocupa más de una línea, se utiliza triple comilla simple (''') o triple comilla doble (\"\"\").\n",
    "\n",
    "**Ejemplo:**"
   ]
  },
  {
   "cell_type": "code",
   "execution_count": 12,
   "metadata": {},
   "outputs": [
    {
     "name": "stdout",
     "output_type": "stream",
     "text": [
      "\n",
      "MENU\n",
      "1) Sumar        2) Restar\n",
      "3) Multiplicar  4) Dividir\n",
      "5) Salir\n",
      "\n"
     ]
    }
   ],
   "source": [
    "menu=\"\"\"\n",
    "MENU\n",
    "1) Sumar        2) Restar\n",
    "3) Multiplicar  4) Dividir\n",
    "5) Salir\n",
    "\"\"\"\n",
    "print(menu)"
   ]
  },
  {
   "attachments": {},
   "cell_type": "markdown",
   "metadata": {},
   "source": [
    "**Podemos convertir variables a diferentes tipos de datos utilizando las funciones **int()**, **float()** y **str()**.*"
   ]
  },
  {
   "attachments": {},
   "cell_type": "markdown",
   "metadata": {},
   "source": [
    "**Booleanos**\n",
    "\n",
    "Los booleanos son un tipo de dato que puede tener dos valores: **True** o **False**. Se utilizan para representar valores de verdad. Por ejemplo: 1 > 2 es falso, 2 == 2 es verdadero, etc. También se pueden utilizar para representar estados. Por ejemplo: si una luz está encendida, el valor es True, si está apagada, el valor es False, o para inicializar un bucle.\n",
    "  \n",
    "*Tanto True como False deben escribirse con la primera letra en mayúscula ya que son palabras reservadas de Python.*\n",
    "\n",
    "**Ejemplos:**\n"
   ]
  },
  {
   "cell_type": "code",
   "execution_count": 13,
   "metadata": {},
   "outputs": [
    {
     "name": "stdout",
     "output_type": "stream",
     "text": [
      "La luz está prendida\n"
     ]
    }
   ],
   "source": [
    "luz = True\n",
    "if luz == True:\n",
    "    print(\"La luz está prendida\")\n",
    "else:\n",
    "    print(\"La luz está apagada\")"
   ]
  },
  {
   "cell_type": "code",
   "execution_count": 14,
   "metadata": {},
   "outputs": [
    {
     "name": "stdout",
     "output_type": "stream",
     "text": [
      "1 2 3 4 5 \n",
      "Fin del ciclo\n"
     ]
    }
   ],
   "source": [
    "contador = 0\n",
    "while True:\n",
    "    contador += 1\n",
    "    print(contador,end=\" \")\n",
    "    if contador == 5:\n",
    "        break\n",
    "print(\"\\nFin del ciclo\")"
   ]
  },
  {
   "attachments": {},
   "cell_type": "markdown",
   "metadata": {},
   "source": [
    "**Listas**\n",
    "\n",
    "Las listas son un tipo de dato que se utiliza para almacenar varios valores. Se pueden almacenar valores de diferentes tipos. Para escribir una lista se utilizan corchetes ( [] ) y se separan los valores con comas ( , ). Por ejemplo: [1, 2, 3, 4, 5], [\"Hola\", \"Mundo\"], [1, \"Hola\", 3.14, True], etc.\n",
    "\n",
    "**Ejemplos:**"
   ]
  },
  {
   "cell_type": "code",
   "execution_count": 18,
   "metadata": {},
   "outputs": [
    {
     "name": "stdout",
     "output_type": "stream",
     "text": [
      "[1, 2, 3, 4, 5]\n",
      "['Mazda', 'Toyota', 'Honda', 'Ford']\n",
      "[5.5, 10, 'Texto', False]\n"
     ]
    }
   ],
   "source": [
    "numeros = [1,2,3,4,5]\n",
    "autos = [\"Mazda\",\"Toyota\",\"Honda\",\"Ford\"]\n",
    "mixto = [5.5,10,\"Texto\",False]\n",
    "\n",
    "print(numeros)\n",
    "print(autos)\n",
    "print(mixto)"
   ]
  },
  {
   "attachments": {},
   "cell_type": "markdown",
   "metadata": {},
   "source": [
    "Para acceder a un elemento de la lista se utiliza el índice del elemento. Tanto en listas como en cadenas de caracteres, el primer elemento tiene índice 0. Podemos modificar el valor de un elemento de la lista utilizando el índice.\n",
    "  \n",
    "Por ejemplo: si se desea acceder al primer elemento de la lista, se utiliza el índice 0, si se desea acceder al segundo elemento de la lista, se utiliza el índice 1, etc.  \n",
    "  \n",
    "Tambien podemos acceder a los elementos de la lista utilizando índices negativos.   \n",
    "  \n",
    "Por ejemplo: si se desea acceder al último elemento de la lista, se utiliza el índice -1, si se desea acceder al penúltimo elemento de la lista, se utiliza el índice -2, etc.\n"
   ]
  },
  {
   "cell_type": "code",
   "execution_count": 19,
   "metadata": {},
   "outputs": [
    {
     "name": "stdout",
     "output_type": "stream",
     "text": [
      "85\n",
      "Honda\n",
      "False\n"
     ]
    }
   ],
   "source": [
    "numeros[0]=85\n",
    "print(numeros[0])\n",
    "print(autos[2])\n",
    "print(mixto[-1])"
   ]
  },
  {
   "attachments": {},
   "cell_type": "markdown",
   "metadata": {},
   "source": [
    "\n",
    "Las listas se pueden modificar. Se puede agregar un elemento al final de la lista utilizando el método **append()**. Tambien se puede agregar un elemento en una posición determinada utilizando el método **insert()**.  \n",
    "  \n",
    "Es posible concatenar dos o mas listas utilizando el operador **+**.\n",
    "  \n",
    "Para eliminar un elemento de la lista podemos utilizar el método **remove()** o el método **del**. El método **pop()** elimina el elemento de la posición indicada y devuelve el valor eliminado. Si no se indica la posición, elimina el último elemento de la lista.  \n",
    "  \n",
    "El método **clear()** elimina todos los elementos de la lista."
   ]
  },
  {
   "cell_type": "code",
   "execution_count": 35,
   "metadata": {},
   "outputs": [
    {
     "ename": "ValueError",
     "evalue": "list.remove(x): x not in list",
     "output_type": "error",
     "traceback": [
      "\u001b[1;31m---------------------------------------------------------------------------\u001b[0m",
      "\u001b[1;31mValueError\u001b[0m                                Traceback (most recent call last)",
      "\u001b[1;32md:\\PROGRAMACION\\Pruebas Visual Studio Code\\Variables y Tipos de Datos - Teoría.ipynb Celda 30\u001b[0m line \u001b[0;36m2\n\u001b[0;32m      <a href='vscode-notebook-cell:/d%3A/PROGRAMACION/Pruebas%20Visual%20Studio%20Code/Variables%20y%20Tipos%20de%20Datos%20-%20Teor%C3%ADa.ipynb#X41sZmlsZQ%3D%3D?line=0'>1</a>\u001b[0m numeros\u001b[39m.\u001b[39mappend(\u001b[39m6\u001b[39m)\n\u001b[1;32m----> <a href='vscode-notebook-cell:/d%3A/PROGRAMACION/Pruebas%20Visual%20Studio%20Code/Variables%20y%20Tipos%20de%20Datos%20-%20Teor%C3%ADa.ipynb#X41sZmlsZQ%3D%3D?line=1'>2</a>\u001b[0m numeros\u001b[39m.\u001b[39;49mremove(\u001b[39m3\u001b[39;49m)\n\u001b[0;32m      <a href='vscode-notebook-cell:/d%3A/PROGRAMACION/Pruebas%20Visual%20Studio%20Code/Variables%20y%20Tipos%20de%20Datos%20-%20Teor%C3%ADa.ipynb#X41sZmlsZQ%3D%3D?line=2'>3</a>\u001b[0m autos\u001b[39m.\u001b[39minsert(\u001b[39m1\u001b[39m,\u001b[39m\"\u001b[39m\u001b[39mChevrolet\u001b[39m\u001b[39m\"\u001b[39m)\n\u001b[0;32m      <a href='vscode-notebook-cell:/d%3A/PROGRAMACION/Pruebas%20Visual%20Studio%20Code/Variables%20y%20Tipos%20de%20Datos%20-%20Teor%C3%ADa.ipynb#X41sZmlsZQ%3D%3D?line=3'>4</a>\u001b[0m mixto\u001b[39m.\u001b[39mpop()\n",
      "\u001b[1;31mValueError\u001b[0m: list.remove(x): x not in list"
     ]
    }
   ],
   "source": [
    "numeros.append(6)\n",
    "numeros.remove(3)\n",
    "autos.insert(1,\"Chevrolet\")\n",
    "mixto.pop()\n",
    "\n",
    "print(numeros)\n",
    "print(autos)\n",
    "print(mixto)\n"
   ]
  },
  {
   "attachments": {},
   "cell_type": "markdown",
   "metadata": {},
   "source": [
    "\n",
    "Otra forma de anexar elementos a una lista es utilizando el operador **+=**. Tambien se puede utilizar el metodo **extend()**.\n",
    "\n",
    "**Ejemplos:**"
   ]
  },
  {
   "cell_type": "code",
   "execution_count": 36,
   "metadata": {},
   "outputs": [
    {
     "name": "stdout",
     "output_type": "stream",
     "text": [
      "[1, 2, 3, 4, 5, 6, 7, 8, 9, 10]\n",
      "[1, 2, 3, 4, 5, 6, 7, 8, 9, 10, 11, 12, 13, 14, 15]\n"
     ]
    }
   ],
   "source": [
    "lista = [1, 2, 3, 4, 5]\n",
    "lista += [6, 7, 8, 9, 10]\n",
    "print(lista)\n",
    "lista.extend([11, 12, 13, 14, 15])\n",
    "print(lista)"
   ]
  },
  {
   "attachments": {},
   "cell_type": "markdown",
   "metadata": {},
   "source": [
    "Si deseamos copiar una lista, podemos utilizar el método **copy()** o el método **list()**.\n",
    "  \n",
    "*Es importante aclarar que si simplemente hacemos una lista igual a otra, al modificar la segunda estaremos modificando la original*\n",
    "\n",
    "**Ejemplos:**"
   ]
  },
  {
   "cell_type": "code",
   "execution_count": 37,
   "metadata": {},
   "outputs": [
    {
     "name": "stdout",
     "output_type": "stream",
     "text": [
      "Lista 1: [10, 2, 3, 4, 5] Lista modificada: [10, 2, 3, 4, 5]\n",
      "Lista 2: [20, 2, 3, 4, 5] Lista 3: [1, 2, 3, 4, 5]\n"
     ]
    }
   ],
   "source": [
    "lista_1 = [1, 2, 3, 4, 5]\n",
    "lista_2 = lista_1.copy()\n",
    "lista_3 = list(lista_2)\n",
    "\n",
    "lista_modificada = lista_1\n",
    "lista_modificada[0] = 10    # También modifica lista_1\n",
    "\n",
    "lista_2[0] = 20             # No modifica lista_1\n",
    "\n",
    "print(\"Lista 1:\",lista_1,\"Lista modificada:\",lista_modificada)\n",
    "\n",
    "print(\"Lista 2:\",lista_2,\"Lista 3:\",lista_3)\n"
   ]
  },
  {
   "attachments": {},
   "cell_type": "markdown",
   "metadata": {},
   "source": [
    "Otra operacion que podemos realizar con las listas es cortarlas. Para ello utilizamos el operador **[ inicio : final : paso ]**.\n",
    "  \n",
    "*En caso de iniciar en 0, finalizar en el último elemento o utilizar paso 1, podemos omitirlos.*\n",
    "  \n",
    "El final no es inclusivo, es decir, el elemento del índice final no se incluye en la lista resultante.\n",
    "\n",
    "**Ejemplos:**"
   ]
  },
  {
   "cell_type": "code",
   "execution_count": 38,
   "metadata": {},
   "outputs": [
    {
     "name": "stdout",
     "output_type": "stream",
     "text": [
      "[10, 20, 30]\n",
      "[30, 40]\n",
      "[20, 30, 40]\n",
      "Mi lista al revés: [50, 40, 30, 20, 10]\n"
     ]
    }
   ],
   "source": [
    "mi_lista = [10,20,30,40,50]\n",
    "mi_lista_cortada = mi_lista[1:4]\n",
    "print(mi_lista[:3])\n",
    "print(mi_lista[2:4])\n",
    "print(mi_lista_cortada)\n",
    "print(\"Mi lista al revés:\",mi_lista[::-1])"
   ]
  },
  {
   "attachments": {},
   "cell_type": "markdown",
   "metadata": {},
   "source": [
    "Es posible crear matrices utilizando listas anidadas. Por ejemplo: [[1, 2, 3],[4, 5, 6],[7, 8, 9]].\n",
    "\n",
    "Esta matriz tiene 3 filas y 3 columnas, y se puede representar de la siguiente manera:  \n",
    "\n",
    "| 1 | 2 | 3 |\n",
    "|:---:|:---:|:---:|\n",
    "| 4 | 5 | 6 |\n",
    "| 7 | 8 | 9 |\n",
    "\n",
    "Para acceder a un elemento de la matriz se utiliza el índice de la fila y el índice de la columna.  \n",
    "  \n",
    "**Ejemplos:**"
   ]
  },
  {
   "cell_type": "code",
   "execution_count": 19,
   "metadata": {},
   "outputs": [
    {
     "name": "stdout",
     "output_type": "stream",
     "text": [
      "1\n",
      "9\n",
      "10\n",
      "[[1, 2, 3], [4, 10, 6], [7, 8, 9]]\n"
     ]
    }
   ],
   "source": [
    "matriz = [[1,2,3],[4,5,6],[7,8,9]]\n",
    "print(matriz[0][0])\n",
    "print(matriz[2][2])\n",
    "matriz[1][1] = 10\n",
    "print(matriz[1][1])\n",
    "print(matriz)"
   ]
  },
  {
   "attachments": {},
   "cell_type": "markdown",
   "metadata": {},
   "source": [
    "**Tuplas**\n",
    "\n",
    "Las tuplas son un tipo de dato que se utiliza para almacenar varios valores. Se pueden almacenar valores de diferentes tipos. Para escribir una tupla se utilizan paréntesis ( () ) y se separan los valores con comas ( , ). Por ejemplo: (1, 2, 3, 4, 5), (\"Hola\", \"Mundo\"), (1, \"Hola\", 3.14, True), etc.\n",
    "  \n",
    "A diferencia de las listas, las tuplas no se pueden modificar. Una vez creada la tupla, no se pueden agregar, eliminar o modificar los elementos."
   ]
  },
  {
   "cell_type": "code",
   "execution_count": 40,
   "metadata": {},
   "outputs": [
    {
     "name": "stdout",
     "output_type": "stream",
     "text": [
      "(1, 2, 3, 4)\n",
      "<class 'tuple'>\n"
     ]
    }
   ],
   "source": [
    "mi_tupla = tuple()\n",
    "mi_tupla_2 = (1, 2, 3, 4)\n",
    "print(mi_tupla_2)\n",
    "print(type(mi_tupla_2))"
   ]
  },
  {
   "attachments": {},
   "cell_type": "markdown",
   "metadata": {},
   "source": [
    "**Diccionarios**\n",
    "\n",
    "Los diccionarios son un tipo de dato que se utiliza para almacenar varios valores. Se pueden almacenar valores de diferentes tipos. Para escribir un diccionario se utilizan llaves ( {} ) y se separan las claves y los valores con dos puntos ( : ). Por ejemplo: {\"nombre\": \"Juan\", \"apellido\": \"Perez\"}, {\"nombre\": \"Maria\", \"apellido\": \"Gomez\"}, etc. Tambien podemos utilizar el método **dict()**.\n",
    "\n",
    "Los diccionarios se pueden modificar. Se puede agregar un elemento utilizando una clave que no exista. Tambien se puede modificar el valor de un elemento utilizando la clave.\n",
    "\n",
    "Para eliminar un elemento del diccionario se utiliza la palabra reservada **del**.\n",
    "\n",
    "Para acceder a un elemento del diccionario se utiliza la clave del elemento como si fuera un índice. Tambien se puede utilizar el método **get()**.\n",
    "\n",
    "**Ejemplos:**"
   ]
  },
  {
   "cell_type": "code",
   "execution_count": 20,
   "metadata": {},
   "outputs": [
    {
     "name": "stdout",
     "output_type": "stream",
     "text": [
      "El alumno 1 se llama Juan Perez y tiene 25 años\n",
      "El alumno 2 se llama Jose Martinez y tiene 40 años\n",
      "Juan\n"
     ]
    }
   ],
   "source": [
    "alumno_1 = {\"nombre\":\"Juan\",\"apellido\":\"Perez\",\"edad\":25}\n",
    "alumno_2 = dict(nombre=\"Jose\",apellido=\"Martinez\",edad=40)\n",
    "print(\"El alumno 1 se llama\",alumno_1[\"nombre\"],alumno_1[\"apellido\"],\"y tiene\",alumno_1[\"edad\"],\"años\")\n",
    "print(\"El alumno 2 se llama\",alumno_2[\"nombre\"],alumno_2[\"apellido\"],\"y tiene\",alumno_2[\"edad\"],\"años\")\n",
    "\n",
    "nombre_alumno_1 = alumno_1.get(\"nombre\")\n",
    "print(nombre_alumno_1)"
   ]
  }
 ],
 "metadata": {
  "kernelspec": {
   "display_name": "Python 3",
   "language": "python",
   "name": "python3"
  },
  "language_info": {
   "codemirror_mode": {
    "name": "ipython",
    "version": 3
   },
   "file_extension": ".py",
   "mimetype": "text/x-python",
   "name": "python",
   "nbconvert_exporter": "python",
   "pygments_lexer": "ipython3",
   "version": "3.12.0"
  },
  "orig_nbformat": 4
 },
 "nbformat": 4,
 "nbformat_minor": 2
}
