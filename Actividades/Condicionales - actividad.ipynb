{
 "cells": [
  {
   "cell_type": "markdown",
   "metadata": {},
   "source": [
    "## Condicionales - Actividad\n",
    "*Los ejercicios propuestos a continuación presentan autocorrección. En cada uno habrá dos bloques, uno para resolver el ejercicio y otro para testear tu solución.*\n",
    "Ejemplo:"
   ]
  },
  {
   "cell_type": "code",
   "execution_count": null,
   "metadata": {},
   "outputs": [],
   "source": [
    "def ejemplo():\n",
    "    return \"ejemplo\""
   ]
  },
  {
   "cell_type": "code",
   "execution_count": null,
   "metadata": {},
   "outputs": [],
   "source": [
    "# TEST EJEMPLO\n",
    "try:\n",
    "    assert ejemplo() == \"ejemplo\", \"ejemplo() debería retornar 'ejemplo'\"\n",
    "    print('\\033[92m' + 'Muy bien!')\n",
    "except AssertionError as e:\n",
    "    print('\\033[91m' + str(e))"
   ]
  },
  {
   "cell_type": "markdown",
   "metadata": {},
   "source": [
    "1) Escribir un programa que reciba un numero y devuelva si es par o impar.\n",
    "\n",
    "    *Debe retornar la palabra \"par\" o \"impar\" según corresponda.*"
   ]
  },
  {
   "cell_type": "code",
   "execution_count": 3,
   "metadata": {},
   "outputs": [],
   "source": [
    "def ejercicio_1(numero):\n",
    "    if numero%2 == 0:\n",
    "        return \"par\"\n",
    "    else:\n",
    "        return \"impar\""
   ]
  },
  {
   "cell_type": "code",
   "execution_count": 4,
   "metadata": {},
   "outputs": [
    {
     "name": "stdout",
     "output_type": "stream",
     "text": [
      "\u001b[92m✓ Ejercicio correcto!\n"
     ]
    }
   ],
   "source": [
    "# TEST EJERCICIO 1\n",
    "try:\n",
    "    assert ejercicio_1(2) == \"par\"\n",
    "    assert ejercicio_1(3) == \"impar\"\n",
    "    print('\\033[92m' + '✓ Ejercicio correcto!')\n",
    "except AssertionError as e:\n",
    "    print('\\033[91m' + \"x Ejercicio incorrecto\")"
   ]
  },
  {
   "cell_type": "markdown",
   "metadata": {},
   "source": [
    "2) Escribir un programa que reciba dos numeros y devuelva el mayor.\n",
    "    *Debe retornar el numero mayor junto con la palabra \"es mayor\"*\n",
    "    Ejemplo: 4 es mayor"
   ]
  },
  {
   "cell_type": "code",
   "execution_count": 9,
   "metadata": {},
   "outputs": [],
   "source": [
    "def ejercicio_2(numero_1, numero_2):\n",
    "    if numero_1 > numero_2:\n",
    "        return f\"{numero_1} es mayor\"\n",
    "    else:\n",
    "        return f\"{numero_2} es mayor\"\n"
   ]
  },
  {
   "cell_type": "code",
   "execution_count": 10,
   "metadata": {},
   "outputs": [
    {
     "name": "stdout",
     "output_type": "stream",
     "text": [
      "\u001b[92m✓ Ejercicio correcto!\n"
     ]
    }
   ],
   "source": [
    "# TEST EJERCICIO 2\n",
    "\n",
    "try:\n",
    "    assert ejercicio_2(2, 7) == \"7 es mayor\"\n",
    "    assert ejercicio_2(-3, 1) == \"1 es mayor\"\n",
    "    print('\\033[92m' + '✓ Ejercicio correcto!')\n",
    "except AssertionError as e:\n",
    "    print('\\033[91m' + \"x Ejercicio incorrecto\")\n"
   ]
  },
  {
   "cell_type": "markdown",
   "metadata": {},
   "source": [
    "3) Dadas dos variables, comprobar si son del mismo tipo de dato y devolver True o False según corresponda."
   ]
  },
  {
   "cell_type": "code",
   "execution_count": 1,
   "metadata": {},
   "outputs": [],
   "source": [
    "def ejercicio_3(variable_1, variable_2):\n",
    "    if type(variable_1) == type(variable_2):\n",
    "        return True\n",
    "    else:\n",
    "        return False"
   ]
  },
  {
   "cell_type": "code",
   "execution_count": 2,
   "metadata": {},
   "outputs": [
    {
     "name": "stdout",
     "output_type": "stream",
     "text": [
      "\u001b[92m✓ Ejercicio correcto!\n"
     ]
    }
   ],
   "source": [
    "# TEST EJERCICIO 3\n",
    "\n",
    "try:\n",
    "    assert ejercicio_3(2, 7) == True\n",
    "    assert ejercicio_3(\"hola\", 1) == False\n",
    "    assert ejercicio_3(\"hola\", \"adios\") == True\n",
    "    print('\\033[92m' + '✓ Ejercicio correcto!')\n",
    "except AssertionError as e:\n",
    "    print('\\033[91m' + \"x Ejercicio incorrecto\")\n",
    "    "
   ]
  },
  {
   "cell_type": "markdown",
   "metadata": {},
   "source": [
    "4) En una empresa se le paga al personal un bono según los años que llevan en la misma. Si la persona lleva 5 años o menos el bono es de $5.000, mas de 5 años y menos de 20 años es de $10.000, mas de 20 años, el bono es de $15.000. \n",
    "\n",
    "    Crear un programa que reciba el nombre del empleado y los años que lleva en la empresa y devuelva el bono que le corresponde.\n",
    "    \n",
    "    *Debe retornar el nombre del empleado junto con la palabra \"tiene un bono de\" y el valor del bono*\n",
    "\n",
    "    Ejemplo: \"Pedro tiene un bono de 10000\""
   ]
  },
  {
   "cell_type": "code",
   "execution_count": 57,
   "metadata": {},
   "outputs": [],
   "source": [
    "def ejercicio_4(nombre, años):\n",
    "    if años <= 5:\n",
    "        return f\"{nombre} tiene un bono de 5000\"\n",
    "    elif años >= 5 and años < 20:\n",
    "        return f\"{nombre} tiene un bono de 10000\"\n",
    "    else:\n",
    "        return f\"{nombre} tiene un bono de 15000\""
   ]
  },
  {
   "cell_type": "code",
   "execution_count": 58,
   "metadata": {},
   "outputs": [
    {
     "name": "stdout",
     "output_type": "stream",
     "text": [
      "\u001b[92m✓ Ejercicio correcto!\n"
     ]
    }
   ],
   "source": [
    "# TEST EJERCICIO 4\n",
    "\n",
    "try:\n",
    "    assert ejercicio_4(\"Juan\", 2) == \"Juan tiene un bono de 5000\"\n",
    "    assert ejercicio_4(\"Pedro\", 17) == \"Pedro tiene un bono de 10000\"\n",
    "    assert ejercicio_4(\"Maria\", 25) == \"Maria tiene un bono de 15000\"\n",
    "    print('\\033[92m' + '✓ Ejercicio correcto!')\n",
    "except AssertionError as e:\n",
    "    print('\\033[91m' + \"x Ejercicio incorrecto\")"
   ]
  },
  {
   "cell_type": "markdown",
   "metadata": {},
   "source": [
    "5) Crear una función que recibe el monto pagado y el tipo de moneda (USD, EUR) y devuelve el monto en pesos argentinos. 1 USD = 970 ARS, 1 EUR = 1022 ARS.\n",
    " \n",
    "    *Debe retornar el monto en pesos argentinos junto con la palabra \"pesos\"*\n",
    "    \n",
    "    Ejemplo: 1000 pesos"
   ]
  },
  {
   "cell_type": "code",
   "execution_count": 26,
   "metadata": {},
   "outputs": [],
   "source": [
    "def ejercicio_5(monto, moneda):\n",
    "    if moneda == \"USD\":\n",
    "        monto *= 970\n",
    "    elif moneda == \"EUR\":\n",
    "        monto *= 1022\n",
    "    return f\"{monto} pesos\""
   ]
  },
  {
   "cell_type": "code",
   "execution_count": 27,
   "metadata": {},
   "outputs": [
    {
     "name": "stdout",
     "output_type": "stream",
     "text": [
      "\u001b[92m✓ Ejercicio correcto!\n"
     ]
    }
   ],
   "source": [
    "# TEST EJERCICIO 5\n",
    "#Crear una función que recibe el monto pagado y el tipo de moneda (USD, EUR) y devuelve el monto en pesos argentinos. *Debe retornar el monto en pesos argentinos junto con la palabra \"pesos\"*\n",
    "\n",
    "try:\n",
    "    assert ejercicio_5(100, \"USD\") == \"97000 pesos\"\n",
    "    assert ejercicio_5(73, \"EUR\") == \"74606 pesos\"\n",
    "    assert ejercicio_5(0, \"USD\") == \"0 pesos\"\n",
    "    print('\\033[92m' + '✓ Ejercicio correcto!')\n",
    "except AssertionError as e:\n",
    "    print('\\033[91m' + \"x Ejercicio incorrecto\")"
   ]
  },
  {
   "cell_type": "markdown",
   "metadata": {},
   "source": [
    "6) Crea una función que reciba el nombre de un estudiante y su promedio de calificaciones. Si el promedio es menor a 70, la función debe retornar \"El estudiante [nombre] está en la categoría 'Bajo rendimiento'\". Si el promedio está entre 70 y 90 (inclusive), debe retornar \"El estudiante [nombre] está en la categoría 'Rendimiento promedio'\". Si el promedio es mayor a 90, debe retornar \"El estudiante [nombre] está en la categoría 'Alto rendimiento'\"."
   ]
  },
  {
   "cell_type": "code",
   "execution_count": 66,
   "metadata": {},
   "outputs": [],
   "source": [
    "def ejercicio_6(alumnos, promedio):\n",
    "    if promedio < 70:\n",
    "        return f\"El estudiante {alumnos} está en la categoría 'Bajo rendimiento'\"\n",
    "    elif promedio >= 70 and promedio  <= 90:\n",
    "        return f\"El estudiante {alumnos} está en la categoría 'Rendimiento promedio'\"\n",
    "    else:\n",
    "        return f\"El estudiante {alumnos} está en la categoría 'Alto rendimiento'\""
   ]
  },
  {
   "cell_type": "code",
   "execution_count": 67,
   "metadata": {},
   "outputs": [
    {
     "name": "stdout",
     "output_type": "stream",
     "text": [
      "\u001b[92m✓ Ejercicio correcto!\n"
     ]
    }
   ],
   "source": [
    "# TEST EJERCICIO 6\n",
    "#Crea una función que reciba el nombre de un estudiante y su promedio de calificaciones. Si el promedio es menor a 70, la función debe retornar \"El estudiante [nombre] está en la categoría 'Bajo rendimiento'\". Si el promedio está entre 70 y 90 (inclusive), debe retornar \"El estudiante [nombre] está en la categoría 'Rendimiento promedio'\". Si el promedio es mayor a 90, debe retornar \"El estudiante [nombre] está en la categoría 'Alto rendimiento'\".\n",
    "\n",
    "try:\n",
    "    assert ejercicio_6(\"Juan\", 68) == \"El estudiante Juan está en la categoría 'Bajo rendimiento'\"\n",
    "    assert ejercicio_6(\"Pedro\", 70) == \"El estudiante Pedro está en la categoría 'Rendimiento promedio'\"\n",
    "    assert ejercicio_6(\"Maria\", 96) == \"El estudiante Maria está en la categoría 'Alto rendimiento'\"\n",
    "    print('\\033[92m' + '✓ Ejercicio correcto!')\n",
    "except AssertionError as e:\n",
    "    print('\\033[91m' + \"x Ejercicio incorrecto\")"
   ]
  },
  {
   "cell_type": "markdown",
   "metadata": {},
   "source": [
    "7) Vas a comprar chocolates en oferta, cada uno vale $325, comprando 5 o mas tienen un descuento del 10%, si compras 10 o mas tienen un descuento del 17%, si compras 20 o mas tienen un descuento del 30%. \n",
    "\n",
    "    Crear un programa que reciba la cantidad de chocolates que queres comprar y devuelva el precio final.\n",
    "    \n",
    "    *Solo debe retornar el precio final, puede ser un numero entero o decimal*"
   ]
  },
  {
   "cell_type": "code",
   "execution_count": 69,
   "metadata": {},
   "outputs": [],
   "source": [
    "def ejercicio_7(cantidad):\n",
    "    if cantidad == 1 and cantidad < 5:\n",
    "        return 325\n",
    "    elif cantidad >= 5 and cantidad < 10:\n",
    "        monto = cantidad * 325\n",
    "        descuento = monto * 0.10\n",
    "        precio_final = monto - descuento\n",
    "        return precio_final\n",
    "    elif cantidad >= 10 and cantidad < 20:\n",
    "        monto = cantidad * 325\n",
    "        descuento = monto * 0.17\n",
    "        precio_final = monto - descuento\n",
    "        return precio_final\n",
    "    else:\n",
    "        monto = cantidad * 325\n",
    "        descuento = monto * 0.30\n",
    "        precio_final = monto - descuento\n",
    "        return precio_final"
   ]
  },
  {
   "cell_type": "code",
   "execution_count": 70,
   "metadata": {},
   "outputs": [
    {
     "name": "stdout",
     "output_type": "stream",
     "text": [
      "\u001b[92m✓ Ejercicio correcto!\n"
     ]
    }
   ],
   "source": [
    "# TEST EJERCICIO 7\n",
    "#Vas a comprar chocolates en oferta, cada uno vale $325, comprando 5 o mas tienen un descuento del 10%, si compras 10 o mas tienen un descuento del 17%, si compras 20 o mas tienen un descuento del 30%. \n",
    "\n",
    "try:\n",
    "    assert ejercicio_7(1) == 325\n",
    "    assert ejercicio_7(5) == 1462.5\n",
    "    assert ejercicio_7(13) == 3506.75\n",
    "    assert ejercicio_7(22) == 5005\n",
    "    print('\\033[92m' + '✓ Ejercicio correcto!')\n",
    "except AssertionError as e:\n",
    "    print('\\033[91m' + \"x Ejercicio incorrecto\")"
   ]
  }
 ],
 "metadata": {
  "kernelspec": {
   "display_name": "Python 3",
   "language": "python",
   "name": "python3"
  },
  "language_info": {
   "codemirror_mode": {
    "name": "ipython",
    "version": 3
   },
   "file_extension": ".py",
   "mimetype": "text/x-python",
   "name": "python",
   "nbconvert_exporter": "python",
   "pygments_lexer": "ipython3",
   "version": "3.12.0"
  }
 },
 "nbformat": 4,
 "nbformat_minor": 2
}
