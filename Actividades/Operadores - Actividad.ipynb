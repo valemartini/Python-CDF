{
 "cells": [
  {
   "cell_type": "markdown",
   "metadata": {},
   "source": [
    "## Operadores - Actividad"
   ]
  },
  {
   "cell_type": "markdown",
   "metadata": {},
   "source": [
    "1) Pedir al usuario dos números y mostrar por pantalla la suma de ellos."
   ]
  },
  {
   "cell_type": "code",
   "execution_count": 3,
   "metadata": {},
   "outputs": [
    {
     "name": "stdout",
     "output_type": "stream",
     "text": [
      "65\n",
      "25\n",
      "90\n"
     ]
    }
   ],
   "source": [
    "numero_1 = int(input(\"Ingrese un numero: \"))\n",
    "numero_2 = int(input(\"Ingrese un numero: \"))\n",
    "suma = numero_1 + numero_2 \n",
    "print(numero_1)\n",
    "print(numero_2)\n",
    "print(suma)\n"
   ]
  },
  {
   "cell_type": "markdown",
   "metadata": {},
   "source": [
    "2) Calcular el perímetro y área de un rectángulo dada su base y su altura (el usuario debe introducir por teclado los dos valores)."
   ]
  },
  {
   "cell_type": "code",
   "execution_count": 4,
   "metadata": {},
   "outputs": [
    {
     "name": "stdout",
     "output_type": "stream",
     "text": [
      "7\n",
      "17\n",
      "119\n",
      "48\n"
     ]
    }
   ],
   "source": [
    "#area multiplicar base por altura\n",
    "#perimetro dos veces altura y dos veces base\n",
    "altura = int(input(\"Ingrese un valor para la altura: \"))\n",
    "base = int(input(\"Ingrese un valor para la base: \"))\n",
    "\n",
    "calculo_area = base * altura\n",
    "calculo_perimetro = base * 2 + altura * 2\n",
    "\n",
    "print(altura)\n",
    "print(base)\n",
    "print(calculo_area)\n",
    "print(calculo_perimetro)"
   ]
  },
  {
   "cell_type": "markdown",
   "metadata": {},
   "source": [
    "3) Calcular el resultado de elevar un número entero a otro número entero (por ejemplo, 5 elevado a 3 = 5^3 = 5*5*5)."
   ]
  },
  {
   "cell_type": "code",
   "execution_count": 1,
   "metadata": {},
   "outputs": [
    {
     "name": "stdout",
     "output_type": "stream",
     "text": [
      "5\n",
      "4\n",
      "625\n"
     ]
    }
   ],
   "source": [
    "a = int(input(\"Ingrese un número entero: \"))\n",
    "b = int(input(\"Ingrese un número entero: \"))\n",
    "potencia = a**b \n",
    "print(a)\n",
    "print(b)\n",
    "print(potencia)"
   ]
  },
  {
   "cell_type": "markdown",
   "metadata": {},
   "source": [
    "4) Escribe un programa que convierta grados Celsius a grados Fahrenheit utilizando la fórmula: **F = (C * 9/5) + 32**"
   ]
  },
  {
   "cell_type": "code",
   "execution_count": 5,
   "metadata": {},
   "outputs": [
    {
     "name": "stdout",
     "output_type": "stream",
     "text": [
      "22\n",
      "71.6\n"
     ]
    }
   ],
   "source": [
    "C = int(input(\"Ingrese grados Celsius: \"))\n",
    "conversor = (C*9/5) + 32\n",
    "print(C)\n",
    "print(conversor)\n"
   ]
  },
  {
   "cell_type": "markdown",
   "metadata": {},
   "source": [
    "5) Pedir al usuario su edad y mostrar por pantalla si es mayor de edad o no. (Mayor de edad >= 18)"
   ]
  },
  {
   "cell_type": "code",
   "execution_count": 76,
   "metadata": {},
   "outputs": [
    {
     "name": "stdout",
     "output_type": "stream",
     "text": [
      "18\n",
      "Eres mayor de edad\n"
     ]
    }
   ],
   "source": [
    "edad = int(input(\"Ingrese su edad: \"))\n",
    "print(edad)\n",
    "if edad >= 18:\n",
    "    print(\"Eres mayor de edad\")\n",
    "else:\n",
    "    print(\"No eres mayor de edad\")\n"
   ]
  },
  {
   "cell_type": "markdown",
   "metadata": {},
   "source": [
    "6) Comprobar si el numero ingresado por el usuario es par o impar."
   ]
  },
  {
   "cell_type": "code",
   "execution_count": 22,
   "metadata": {},
   "outputs": [
    {
     "name": "stdout",
     "output_type": "stream",
     "text": [
      "25\n",
      "1\n",
      "El número es impar\n"
     ]
    }
   ],
   "source": [
    "#si el número x % 2 devuelve cero(0), x es par; si devuelve 1, es impar\n",
    "num = int(input(\"Ingrese un número: \"))\n",
    "calculo = num % 2\n",
    "print(num)\n",
    "print(calculo)\n",
    "if calculo == 0:\n",
    "    print(\"El número es par\")\n",
    "if calculo == 1:\n",
    "    print(\"El número es impar\")"
   ]
  },
  {
   "cell_type": "markdown",
   "metadata": {},
   "source": [
    "7) Pedir al usuario que ingrese su dirección email y luego mostrar un mensaje indicando si la dirección es válida o no. Una dirección se considerará válida si contiene el símbolo \"@\"."
   ]
  },
  {
   "cell_type": "code",
   "execution_count": 30,
   "metadata": {},
   "outputs": [
    {
     "name": "stdout",
     "output_type": "stream",
     "text": [
      "valemartini002@gmail.com\n",
      "Email válido\n"
     ]
    }
   ],
   "source": [
    "email = str(input(\"Ingrese su dirección de email: \"))\n",
    "print(email)\n",
    "if \"@\" in email:\n",
    "    print(\"Email válido\")\n",
    "else:\n",
    "    print(\"Email inválido\")"
   ]
  },
  {
   "cell_type": "markdown",
   "metadata": {},
   "source": [
    "8) Dado un número de dos cifras, diseñe un algoritmo que permita obtener el número invertido. Ejemplo, si se introduce 23 que muestre 32. (Recordar que las cadenas pueden tratarse como listas de caracteres)."
   ]
  },
  {
   "cell_type": "code",
   "execution_count": 53,
   "metadata": {},
   "outputs": [
    {
     "name": "stdout",
     "output_type": "stream",
     "text": [
      "45\n",
      "El número invertido es: 54\n"
     ]
    }
   ],
   "source": [
    "numb = input(\"Ingrese un número de dos cifras: \")\n",
    "print(numb)\n",
    "numb_invertido = numb[::-1]\n",
    "print(\"El número invertido es:\", numb_invertido)"
   ]
  },
  {
   "cell_type": "markdown",
   "metadata": {},
   "source": [
    "9) Crea un programa que pida al usuario dos números y muestre True si ambos son mayores que 10."
   ]
  },
  {
   "cell_type": "code",
   "execution_count": 77,
   "metadata": {},
   "outputs": [
    {
     "name": "stdout",
     "output_type": "stream",
     "text": [
      "10\n",
      "25\n",
      "True\n"
     ]
    }
   ],
   "source": [
    "num_1 = int(input(\"Ingrese un número: \"))\n",
    "num_2 = int(input(\"Ingrese un número: \"))\n",
    "print(num_1)\n",
    "print(num_2)\n",
    "if num_1 >= 10 and num_2 >= 10:\n",
    "    print(True)"
   ]
  },
  {
   "cell_type": "markdown",
   "metadata": {},
   "source": [
    "10) Escribe un programa que verifique si un número ingresado por el usuario es divisible por 3 y por 5."
   ]
  },
  {
   "cell_type": "code",
   "execution_count": 63,
   "metadata": {},
   "outputs": [
    {
     "name": "stdout",
     "output_type": "stream",
     "text": [
      "555\n",
      "555 es divisible por 3 y por 5\n"
     ]
    }
   ],
   "source": [
    "numerox = int(input(\"Ingrese un número: \"))\n",
    "print(numerox)\n",
    "if numerox % 3 == 0 and numerox % 5 == 0:\n",
    "    print(f\"{numerox} es divisible por 3 y por 5\")\n",
    "else:\n",
    "    print(f\"{numerox} no es divisible por 3 y por 5\")"
   ]
  },
  {
   "cell_type": "markdown",
   "metadata": {},
   "source": [
    "11) Utilizando la información del punto 5, preguntar al usuario si posee carnet de conducir, luego verificar si puede conducir un automóvil."
   ]
  },
  {
   "cell_type": "code",
   "execution_count": 80,
   "metadata": {},
   "outputs": [
    {
     "name": "stdout",
     "output_type": "stream",
     "text": [
      "18\n",
      "Eres mayor de edad\n",
      "No puedes conducir un automóvil porque no tienes carnet de conducir\n"
     ]
    }
   ],
   "source": [
    "edad = int(input(\"Ingrese su edad: \"))\n",
    "print(edad)\n",
    "if edad >= 18:\n",
    "    print(\"Eres mayor de edad\") \n",
    "\n",
    "tiene_carnet = input(\"¿Tiene carnet de conducir? (Sí/No): \") \n",
    "\n",
    "if tiene_carnet == \"sí\" or tiene_carnet == \"si\":\n",
    "    print(\"Puedes conducir un automóvil\")\n",
    "else:\n",
    "    print(\"No puedes conducir un automóvil porque no tienes carnet de conducir\")\n",
    "\n",
    "if edad < 18:\n",
    "    print(\"Eres menor de edad y no puedes conducir un automóvil\")"
   ]
  },
  {
   "cell_type": "markdown",
   "metadata": {},
   "source": [
    "12) Pide al usuario un número y verifica si es positivo y no es mayor que 100."
   ]
  },
  {
   "cell_type": "code",
   "execution_count": 87,
   "metadata": {},
   "outputs": [
    {
     "name": "stdout",
     "output_type": "stream",
     "text": [
      "91\n",
      "El número es positivo y no es mayor que 100\n"
     ]
    }
   ],
   "source": [
    "número = int(input(\"Ingrese un número: \"))\n",
    "print(número)\n",
    "if número > 0 and número <= 100:\n",
    "    print(\"El número es positivo y no es mayor que 100\")\n",
    "elif número <= 0:\n",
    "    print(\"El número no es positivo\")\n",
    "else:\n",
    "    print(\"El número es mayor que 100\")"
   ]
  },
  {
   "cell_type": "markdown",
   "metadata": {},
   "source": [
    "13) Crear un programa que valide si un número ingresado por el usuario es par y mayor que 20."
   ]
  },
  {
   "cell_type": "code",
   "execution_count": 90,
   "metadata": {},
   "outputs": [
    {
     "name": "stdout",
     "output_type": "stream",
     "text": [
      "56\n",
      "El número es par y mayor que 20\n"
     ]
    }
   ],
   "source": [
    "number = int(input(\"Ingrese un número: \"))\n",
    "print(number)\n",
    "if number % 2 == 0 and number > 20:\n",
    "    print(\"El número es par y mayor que 20\")\n",
    "else:\n",
    "    print(\"El número no cumple con los requisitos\")"
   ]
  },
  {
   "cell_type": "markdown",
   "metadata": {},
   "source": [
    "14) Dada la variable **numero = 5**, realizar la operación necesaria para que número sea igual a 8. Luego imprimir en pantalla el nuevo valor de número y realizar una nueva operación para que el valor de número sea igual a 4 y mostrar en pantalla el nuevo valor."
   ]
  },
  {
   "cell_type": "code",
   "execution_count": 61,
   "metadata": {},
   "outputs": [
    {
     "name": "stdout",
     "output_type": "stream",
     "text": [
      "8\n",
      "4\n"
     ]
    }
   ],
   "source": [
    "numero = 5\n",
    "numero += 3\n",
    "print(numero)\n",
    "numero -= 4\n",
    "print(numero)"
   ]
  },
  {
   "cell_type": "markdown",
   "metadata": {},
   "source": [
    "15) Dadas las variables altura = \"10\" y base = 5, calcular el área de un triángulo y mostrar el resultado en pantalla. ¿Por qué el resultado es un error? ¿Cómo lo corregirías?"
   ]
  },
  {
   "cell_type": "code",
   "execution_count": 94,
   "metadata": {},
   "outputs": [
    {
     "name": "stdout",
     "output_type": "stream",
     "text": [
      "El área del triángulo es: 25.0\n"
     ]
    }
   ],
   "source": [
    "#base * altura / 2 para calcular el área del triángulo\n",
    "altura = \"10\"\n",
    "base = 5\n",
    "#porque no se pueden realizar operaciones matemáticas entre string y un número entero\n",
    "area = int(altura) * base / 2 \n",
    "print(\"El área del triángulo es:\", area)"
   ]
  },
  {
   "cell_type": "markdown",
   "metadata": {},
   "source": [
    "16) Crea un programa que calcule el promedio de tres calificaciones ingresadas por el usuario, y comprobar si el alumno aprobó o no (aprueba con nota mayor a 6)."
   ]
  },
  {
   "cell_type": "code",
   "execution_count": 106,
   "metadata": {},
   "outputs": [
    {
     "name": "stdout",
     "output_type": "stream",
     "text": [
      "7.0 6.0 10.0\n",
      "7.666666666666667\n",
      "El promedio es: 7.666666666666667, el alumno aprobó\n"
     ]
    }
   ],
   "source": [
    "nota1 = float(input(\"Ingresa una calificación: \"))\n",
    "nota2 = float(input(\"Ingresa una calificación: \"))\n",
    "nota3 = float(input(\"Ingresa una calificación: \"))\n",
    "suma= nota1 + nota2 + nota3\n",
    "promedio = suma / 3 \n",
    "print(nota1, nota2, nota3)\n",
    "print(promedio)\n",
    "if promedio >= 6:\n",
    "    print(f\"El promedio es: {promedio}, el alumno aprobó\")\n",
    "else: \n",
    "    print(f\"El promedio es: {promedio}, el alumno no aprobó\")"
   ]
  },
  {
   "cell_type": "markdown",
   "metadata": {},
   "source": [
    "17) Pide al usuario su edad y calcula cuántos días, horas y minutos ha vivido aproximadamente (asumiendo 365 días por año)."
   ]
  },
  {
   "cell_type": "code",
   "execution_count": 111,
   "metadata": {},
   "outputs": [
    {
     "name": "stdout",
     "output_type": "stream",
     "text": [
      "18\n",
      "Has vivido 6570 días\n",
      "Has vivido 157680 horas\n",
      "Has vivido 9460800 minutos\n"
     ]
    }
   ],
   "source": [
    "edad = int(input(\"Ingresa tu edad: \"))\n",
    "\n",
    "dias = edad * 365\n",
    "horas = dias * 24\n",
    "minutos = horas * 60\n",
    "\n",
    "print(edad)\n",
    "print(f\"Has vivido {dias} días\")\n",
    "print(f\"Has vivido {horas} horas\")\n",
    "print(f\"Has vivido {minutos} minutos\")\n"
   ]
  },
  {
   "cell_type": "markdown",
   "metadata": {},
   "source": [
    "18) Crea un programa que verifique si un número ingresado por el usuario es múltiplo de 4 y de 6 al mismo tiempo."
   ]
  },
  {
   "cell_type": "code",
   "execution_count": 115,
   "metadata": {},
   "outputs": [
    {
     "name": "stdout",
     "output_type": "stream",
     "text": [
      "El número 36 es múltiplo de 4 y 6 al mismo tiempo\n"
     ]
    }
   ],
   "source": [
    "numero1 = int(input(\"Ingrese un número: \"))\n",
    "if numero1 % 4 == 0 and numero1 % 6 == 0:\n",
    "    print(f\"El número {numero1} es múltiplo de 4 y 6 al mismo tiempo\")\n",
    "else:\n",
    "    print(f\"El número {numero1} no es múltiplo de 4 y 6 al mismo tiempo\")"
   ]
  }
 ],
 "metadata": {
  "kernelspec": {
   "display_name": "Python 3",
   "language": "python",
   "name": "python3"
  },
  "language_info": {
   "codemirror_mode": {
    "name": "ipython",
    "version": 3
   },
   "file_extension": ".py",
   "mimetype": "text/x-python",
   "name": "python",
   "nbconvert_exporter": "python",
   "pygments_lexer": "ipython3",
   "version": "3.12.0"
  }
 },
 "nbformat": 4,
 "nbformat_minor": 2
}
