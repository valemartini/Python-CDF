{
 "cells": [
  {
   "cell_type": "markdown",
   "metadata": {},
   "source": [
    "## Listas - Actividad"
   ]
  },
  {
   "cell_type": "markdown",
   "metadata": {},
   "source": [
    "1) Escribe una función que tome una lista de números como argumento y devuelva una nueva lista que contenga solo los números pares."
   ]
  },
  {
   "cell_type": "code",
   "execution_count": 1,
   "metadata": {},
   "outputs": [],
   "source": [
    "def ejercicio_1(numeros):\n",
    "    lista_pares = [numero for numero in numeros if numero % 2 == 0]\n",
    "    return lista_pares"
   ]
  },
  {
   "cell_type": "code",
   "execution_count": 2,
   "metadata": {},
   "outputs": [
    {
     "name": "stdout",
     "output_type": "stream",
     "text": [
      "\u001b[92m✓ Ejercicio correcto!\n"
     ]
    }
   ],
   "source": [
    "# TEST EJERCICIO 1\n",
    "\n",
    "try:\n",
    "    assert ejercicio_1([1, 2, 3, 4, 5, 6, 7, 8, 9]) == [2, 4, 6, 8]\n",
    "    assert ejercicio_1([11, 23, 44, 56, 72, 51, 22, 15]) == [44, 56, 72, 22]\n",
    "    print('\\033[92m' + '✓ Ejercicio correcto!')\n",
    "except AssertionError as e:\n",
    "    print('\\033[91m' + \"x Ejercicio incorrecto\")"
   ]
  },
  {
   "cell_type": "markdown",
   "metadata": {},
   "source": [
    "2) Escribe una función que tome una lista y elimine los elementos duplicados, devolviendo una nueva lista sin duplicados. El orden de los elementos debe mantenerse."
   ]
  },
  {
   "cell_type": "code",
   "execution_count": 3,
   "metadata": {},
   "outputs": [],
   "source": [
    "def ejercicio_2(lista):\n",
    "    lista_nueva = []\n",
    "    for elemento in lista:\n",
    "        if elemento not in lista_nueva:\n",
    "            lista_nueva.append(elemento)\n",
    "    return lista_nueva"
   ]
  },
  {
   "cell_type": "code",
   "execution_count": 4,
   "metadata": {},
   "outputs": [
    {
     "name": "stdout",
     "output_type": "stream",
     "text": [
      "\u001b[92m✓ Ejercicio correcto!\n"
     ]
    }
   ],
   "source": [
    "# TEST EJERCICIO 2\n",
    "\n",
    "try:\n",
    "    assert ejercicio_2([1, 2, 2, 3, 4, 4, 5, 5, 5, 2]) == [1, 2, 3, 4, 5]\n",
    "    assert ejercicio_2([\"Hola\", \"Mundo\", \"Hola\", \"Ejercicio\", \"Dos\", \"Numero\", \"Dos\", \"Dos\"]) == [\"Hola\", \"Mundo\", \"Ejercicio\", \"Dos\", \"Numero\"]\n",
    "    print('\\033[92m' + '✓ Ejercicio correcto!')\n",
    "except AssertionError as e:\n",
    "    print('\\033[91m' + \"x Ejercicio incorrecto\")"
   ]
  },
  {
   "cell_type": "markdown",
   "metadata": {},
   "source": [
    "3) Escribe una función que tome una lista y un elemento como argumentos, y elimine todas las ocurrencias de ese elemento en la lista. Devuelve la lista modificada."
   ]
  },
  {
   "cell_type": "code",
   "execution_count": 5,
   "metadata": {},
   "outputs": [],
   "source": [
    "def ejercicio_3(lista, elemento):\n",
    "    while elemento in lista:\n",
    "        lista.remove(elemento)\n",
    "    return lista"
   ]
  },
  {
   "cell_type": "code",
   "execution_count": 6,
   "metadata": {},
   "outputs": [
    {
     "name": "stdout",
     "output_type": "stream",
     "text": [
      "\u001b[92m✓ Ejercicio correcto!\n"
     ]
    }
   ],
   "source": [
    "# TEST EJERCICIO 3\n",
    "\n",
    "try:\n",
    "    assert ejercicio_3([1, 2, 3, 4, 2, 5, 2], 2) == [1, 3, 4, 5]\n",
    "    assert ejercicio_3([\"Alfa\", \"Beta\", \"Gamma\", \"Epsilon\", \"Alfa\", \"Alfa\"], \"Alfa\") == [\"Beta\", \"Gamma\", \"Epsilon\"]\n",
    "    print('\\033[92m' + '✓ Ejercicio correcto!')\n",
    "except AssertionError as e:\n",
    "    print('\\033[91m' + \"x Ejercicio incorrecto\")"
   ]
  },
  {
   "cell_type": "markdown",
   "metadata": {},
   "source": [
    "4) Escribe una función que tome una lista de números como argumento y devuelva una nueva lista que contenga solo los números que son mayores que 0 (cero), ordenados de menor a mayor."
   ]
  },
  {
   "cell_type": "code",
   "execution_count": 7,
   "metadata": {},
   "outputs": [],
   "source": [
    "def ejercicio_4(numeros):\n",
    "    mayorCero = [x for x in numeros if x >0]\n",
    "    mayorCero.sort()\n",
    "    return mayorCero"
   ]
  },
  {
   "cell_type": "code",
   "execution_count": 10,
   "metadata": {},
   "outputs": [
    {
     "name": "stdout",
     "output_type": "stream",
     "text": [
      "\u001b[92m✓ Ejercicio correcto!\n"
     ]
    }
   ],
   "source": [
    "# TEST EJERCICIO 4\n",
    "\n",
    "try:\n",
    "    assert ejercicio_4([-3, 5, 1, 0, -1, 8, 2, 4, 3, 6]) == [1, 2, 3, 4, 5, 6, 8]\n",
    "    print('\\033[92m' + '✓ Ejercicio correcto!')\n",
    "except AssertionError as e:\n",
    "    print('\\033[91m' + \"x Ejercicio incorrecto\")"
   ]
  },
  {
   "cell_type": "markdown",
   "metadata": {},
   "source": [
    "5) Crear una función que cuente la cantidad de veces que se repite cada elemento de una lista. Devolver un diccionario con los elementos y sus repeticiones.\n",
    "\n",
    "> Consejo: Usar el método `count` de las listas y listas por comprensión."
   ]
  },
  {
   "cell_type": "code",
   "execution_count": 11,
   "metadata": {},
   "outputs": [],
   "source": [
    "def ejercicio_5(lista):\n",
    "    repeticiones = {elemento: lista.count(elemento) for elemento in lista}\n",
    "    return repeticiones"
   ]
  },
  {
   "cell_type": "code",
   "execution_count": 12,
   "metadata": {},
   "outputs": [
    {
     "name": "stdout",
     "output_type": "stream",
     "text": [
      "\u001b[92m✓ Ejercicio correcto!\n"
     ]
    }
   ],
   "source": [
    "# TEST EJERCICIO 5\n",
    "\n",
    "try:\n",
    "    assert ejercicio_5([\"Hola\", \"Hola\", \"Mundo\", \"Hola\", \"Palabra\", \"Curso\", \"Curso\"]) == {\"Hola\": 3, \"Mundo\": 1, \"Palabra\": 1, \"Curso\": 2}\n",
    "    print('\\033[92m' + '✓ Ejercicio correcto!')\n",
    "except AssertionError as e:\n",
    "    print('\\033[91m' + \"x Ejercicio incorrecto\")\n"
   ]
  },
  {
   "cell_type": "markdown",
   "metadata": {},
   "source": [
    "6) Escribe una función que tome un número entero positivo n como argumento y devuelva una lista de los primeros n números primos.\n",
    "\n",
    "> Nota: Un número primo es un número natural mayor que 1 que es divisible únicamente por 1 y por sí mismo."
   ]
  },
  {
   "cell_type": "code",
   "execution_count": 13,
   "metadata": {},
   "outputs": [],
   "source": [
    "def ejercicio_6(n):\n",
    "    num_primos = []\n",
    "    for i in range(2, n):\n",
    "        if es_primo(i):\n",
    "            num_primos.append(i)\n",
    "    return num_primos\n",
    "\n",
    "def es_primo(num):\n",
    "    if num < 2:\n",
    "        return False\n",
    "    for i in range(2, int(num**0.5) + 1):\n",
    "        if num % i == 0:\n",
    "            return False\n",
    "    return True"
   ]
  },
  {
   "cell_type": "code",
   "execution_count": 14,
   "metadata": {},
   "outputs": [
    {
     "name": "stdout",
     "output_type": "stream",
     "text": [
      "\u001b[92m✓ Ejercicio correcto!\n"
     ]
    }
   ],
   "source": [
    "# TEST EJERCICIO 6\n",
    "\n",
    "try:\n",
    "    assert ejercicio_6(20) == [2, 3, 5, 7, 11, 13, 17, 19]\n",
    "    assert ejercicio_6(10) == [2, 3, 5, 7]\n",
    "    print('\\033[92m' + '✓ Ejercicio correcto!')\n",
    "except AssertionError as e:\n",
    "    print('\\033[91m' + \"x Ejercicio incorrecto\")"
   ]
  },
  {
   "cell_type": "markdown",
   "metadata": {},
   "source": [
    "7) Escribe una función que tome una lista de números como argumento y devuelva `True` si la lista está ordenada en orden descendente y `False` en caso contrario."
   ]
  },
  {
   "cell_type": "code",
   "execution_count": 15,
   "metadata": {},
   "outputs": [],
   "source": [
    "def ejercicio_7(numeros):\n",
    "    if numeros == sorted(numeros, reverse = True):\n",
    "        return True\n",
    "    else:\n",
    "        return False"
   ]
  },
  {
   "cell_type": "code",
   "execution_count": 16,
   "metadata": {},
   "outputs": [
    {
     "name": "stdout",
     "output_type": "stream",
     "text": [
      "\u001b[92m✓ Ejercicio correcto!\n"
     ]
    }
   ],
   "source": [
    "# TEST EJERCICIO 7\n",
    "\n",
    "try:\n",
    "    assert ejercicio_7([4, 7, 11, 3, 1, 0, 8, 14, 25]) == False\n",
    "    assert ejercicio_7([1, 2, 3, 4, 5, 6, 7, 8, 9]) == False\n",
    "    assert ejercicio_7([11, 9, 6, 3, 1]) == True\n",
    "    print('\\033[92m' + '✓ Ejercicio correcto!')\n",
    "except AssertionError as e:\n",
    "    print('\\033[91m' + \"x Ejercicio incorrecto\")"
   ]
  }
 ],
 "metadata": {
  "kernelspec": {
   "display_name": "Python 3",
   "language": "python",
   "name": "python3"
  },
  "language_info": {
   "codemirror_mode": {
    "name": "ipython",
    "version": 3
   },
   "file_extension": ".py",
   "mimetype": "text/x-python",
   "name": "python",
   "nbconvert_exporter": "python",
   "pygments_lexer": "ipython3",
   "version": "3.12.0"
  }
 },
 "nbformat": 4,
 "nbformat_minor": 2
}
