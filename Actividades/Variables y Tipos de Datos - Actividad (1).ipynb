{
 "cells": [
  {
   "attachments": {},
   "cell_type": "markdown",
   "metadata": {},
   "source": [
    "## Variables y Tipos de Datos"
   ]
  },
  {
   "attachments": {},
   "cell_type": "markdown",
   "metadata": {},
   "source": [
    "1) Crear una variable que contenga un elemento del conjunto de números enteros y luego imprimir por pantalla"
   ]
  },
  {
   "cell_type": "code",
   "execution_count": 1,
   "metadata": {},
   "outputs": [
    {
     "name": "stdout",
     "output_type": "stream",
     "text": [
      "20\n"
     ]
    }
   ],
   "source": [
    "variable = 20\n",
    "print(variable)"
   ]
  },
  {
   "attachments": {},
   "cell_type": "markdown",
   "metadata": {},
   "source": [
    "2) Imprimir el tipo de dato de la variable 8.5"
   ]
  },
  {
   "cell_type": "code",
   "execution_count": 2,
   "metadata": {},
   "outputs": [
    {
     "name": "stdout",
     "output_type": "stream",
     "text": [
      "<class 'float'>\n"
     ]
    }
   ],
   "source": [
    "print(type(8.5))"
   ]
  },
  {
   "attachments": {},
   "cell_type": "markdown",
   "metadata": {},
   "source": [
    "3) Imprimir el tipo de dato de la variable creada en el punto 1"
   ]
  },
  {
   "cell_type": "code",
   "execution_count": 3,
   "metadata": {},
   "outputs": [
    {
     "name": "stdout",
     "output_type": "stream",
     "text": [
      "<class 'int'>\n"
     ]
    }
   ],
   "source": [
    "print(type(variable))"
   ]
  },
  {
   "attachments": {},
   "cell_type": "markdown",
   "metadata": {},
   "source": [
    "4) Crear una variable que contenga tu nombre"
   ]
  },
  {
   "cell_type": "code",
   "execution_count": 4,
   "metadata": {},
   "outputs": [],
   "source": [
    "mi_nombre = \"Valentina\""
   ]
  },
  {
   "attachments": {},
   "cell_type": "markdown",
   "metadata": {},
   "source": [
    "5) Crear una constante que contenga el número Pi"
   ]
  },
  {
   "cell_type": "code",
   "execution_count": 1,
   "metadata": {},
   "outputs": [],
   "source": [
    "NUMERO_PI = 3.14"
   ]
  },
  {
   "attachments": {},
   "cell_type": "markdown",
   "metadata": {},
   "source": [
    "6) Mostrar el tipo de dato de la variable crada en el punto 5"
   ]
  },
  {
   "cell_type": "code",
   "execution_count": 3,
   "metadata": {},
   "outputs": [
    {
     "name": "stdout",
     "output_type": "stream",
     "text": [
      "<class 'float'>\n"
     ]
    }
   ],
   "source": [
    "print(type(NUMERO_PI))"
   ]
  },
  {
   "attachments": {},
   "cell_type": "markdown",
   "metadata": {},
   "source": [
    "7) Crear una variable que contenga el valor del número **e** redondeado a 4 decimales"
   ]
  },
  {
   "cell_type": "code",
   "execution_count": 4,
   "metadata": {},
   "outputs": [],
   "source": [
    "E = 7.1512"
   ]
  },
  {
   "attachments": {},
   "cell_type": "markdown",
   "metadata": {},
   "source": [
    "8) Crear una variable que contenga el valor 'True' y otra que contenga el valor True. ¿Se trata de lo mismo?"
   ]
  },
  {
   "cell_type": "code",
   "execution_count": 52,
   "metadata": {},
   "outputs": [],
   "source": [
    "variable_1 = 'True'\n",
    "variable_2 = True\n",
    "#no son lo mismo ya que uno es string y el otro es booleano"
   ]
  },
  {
   "attachments": {},
   "cell_type": "markdown",
   "metadata": {},
   "source": [
    "9) Imprimir el tipo de dato correspondientes a las variables creadas en el punto 8"
   ]
  },
  {
   "cell_type": "code",
   "execution_count": 10,
   "metadata": {},
   "outputs": [
    {
     "name": "stdout",
     "output_type": "stream",
     "text": [
      "<class 'str'>\n",
      "<class 'bool'>\n"
     ]
    }
   ],
   "source": [
    "print(type(variable_1))\n",
    "print(type(variable_2))"
   ]
  },
  {
   "attachments": {},
   "cell_type": "markdown",
   "metadata": {},
   "source": [
    "10) Asignar a una variable, la suma de un número entero y otro decimal"
   ]
  },
  {
   "cell_type": "code",
   "execution_count": 7,
   "metadata": {},
   "outputs": [],
   "source": [
    "suma = 27 + 6.5"
   ]
  },
  {
   "attachments": {},
   "cell_type": "markdown",
   "metadata": {},
   "source": [
    "11) Realizar una operación de suma de un número definido como string con un entero"
   ]
  },
  {
   "cell_type": "code",
   "execution_count": 11,
   "metadata": {},
   "outputs": [],
   "source": [
    "numero_1 = \"135\"\n",
    "numero_2 = 127\n",
    "suma = int(numero_1) + numero_2"
   ]
  },
  {
   "attachments": {},
   "cell_type": "markdown",
   "metadata": {},
   "source": [
    "12) Crear una variable que contenga el valor del punto 7 elevado a la 3"
   ]
  },
  {
   "cell_type": "code",
   "execution_count": 9,
   "metadata": {},
   "outputs": [],
   "source": [
    "potencia = E**3"
   ]
  },
  {
   "attachments": {},
   "cell_type": "markdown",
   "metadata": {},
   "source": [
    "13) Pedir al usuario que ingrese un número por teclado y realizar una operación de multiplicación"
   ]
  },
  {
   "cell_type": "code",
   "execution_count": 14,
   "metadata": {},
   "outputs": [
    {
     "name": "stdout",
     "output_type": "stream",
     "text": [
      "55\n",
      "550\n"
     ]
    }
   ],
   "source": [
    "multiplicacion = int(input(\"Ingrese un numero: \"))\n",
    "operacion = 10 * multiplicacion\n",
    "print(multiplicacion)\n",
    "print(operacion)"
   ]
  },
  {
   "attachments": {},
   "cell_type": "markdown",
   "metadata": {},
   "source": [
    "14) Obtener el cociente de la división de 27 entre 4 en una variable y luego mostrarla"
   ]
  },
  {
   "cell_type": "code",
   "execution_count": 15,
   "metadata": {},
   "outputs": [
    {
     "name": "stdout",
     "output_type": "stream",
     "text": [
      "6.75\n"
     ]
    }
   ],
   "source": [
    "division = 27/4\n",
    "print(division)"
   ]
  },
  {
   "attachments": {},
   "cell_type": "markdown",
   "metadata": {},
   "source": [
    "15) De la división anterior solamente mostrar la parte entera"
   ]
  },
  {
   "cell_type": "code",
   "execution_count": 16,
   "metadata": {},
   "outputs": [
    {
     "name": "stdout",
     "output_type": "stream",
     "text": [
      "6\n"
     ]
    }
   ],
   "source": [
    "division_entero = 27//4\n",
    "print(division_entero)"
   ]
  },
  {
   "attachments": {},
   "cell_type": "markdown",
   "metadata": {},
   "source": [
    "16) De la división de 27 entre 4 mostrar solamente el resto"
   ]
  },
  {
   "cell_type": "code",
   "execution_count": 17,
   "metadata": {},
   "outputs": [
    {
     "name": "stdout",
     "output_type": "stream",
     "text": [
      "3\n"
     ]
    }
   ],
   "source": [
    "division_resto = 27 % 4\n",
    "print(division_resto)"
   ]
  },
  {
   "attachments": {},
   "cell_type": "markdown",
   "metadata": {},
   "source": [
    "17) Utilizando como operandos el número 4 y los resultados obtenidos en los puntos 16 y 17. Obtener 27 como resultado"
   ]
  },
  {
   "cell_type": "code",
   "execution_count": 15,
   "metadata": {},
   "outputs": [
    {
     "name": "stdout",
     "output_type": "stream",
     "text": [
      "27\n"
     ]
    }
   ],
   "source": [
    "operacion = 4 * 6 + 3\n",
    "print(operacion)"
   ]
  },
  {
   "attachments": {},
   "cell_type": "markdown",
   "metadata": {},
   "source": [
    "18) Evaluar si \"2\" es igual a 2. ¿Por qué ocurre eso?"
   ]
  },
  {
   "cell_type": "code",
   "execution_count": 53,
   "metadata": {},
   "outputs": [
    {
     "name": "stdout",
     "output_type": "stream",
     "text": [
      "False\n"
     ]
    }
   ],
   "source": [
    "comparacion = \"2\" == 2\n",
    "print(comparacion)\n",
    "#porque son diferentes tipos de datos, \"2\" es una cadena de texto y 2 es un número entero por lo que no son iguales\n"
   ]
  },
  {
   "attachments": {},
   "cell_type": "markdown",
   "metadata": {},
   "source": [
    "19) Utilizar las funciones de cambio de tipo de dato, para que la validación del punto 20 resulte verdadera"
   ]
  },
  {
   "cell_type": "code",
   "execution_count": 19,
   "metadata": {},
   "outputs": [
    {
     "name": "stdout",
     "output_type": "stream",
     "text": [
      "True\n"
     ]
    }
   ],
   "source": [
    "comparacion = int(\"2\") == 2\n",
    "print(comparacion)"
   ]
  },
  {
   "attachments": {},
   "cell_type": "markdown",
   "metadata": {},
   "source": [
    "20) ¿Por qué arroja error el siguiente cambio de tipo de datos? a = float('3,8')"
   ]
  },
  {
   "cell_type": "code",
   "execution_count": 20,
   "metadata": {},
   "outputs": [
    {
     "name": "stdout",
     "output_type": "stream",
     "text": [
      "3.8\n"
     ]
    }
   ],
   "source": [
    "#porque utiliza la coma cuando debería ser un punto\n",
    "a = float('3.8')\n",
    "print(a)"
   ]
  },
  {
   "attachments": {},
   "cell_type": "markdown",
   "metadata": {},
   "source": [
    "21) Realizar la operación 2 + '2' ¿Por qué no está permitido? ¿Si los dos operandos fueran del mismo tipo, siempre arrojaría el mismo resultado?"
   ]
  },
  {
   "cell_type": "code",
   "execution_count": 54,
   "metadata": {},
   "outputs": [
    {
     "name": "stdout",
     "output_type": "stream",
     "text": [
      "4\n",
      "22\n"
     ]
    }
   ],
   "source": [
    "#porque no se pueden realizar operaciones matematicas entre string y entero\n",
    "#con los dos operandos como enteros no arroja error\n",
    "calculo = 2 + int('2')\n",
    "print(calculo)\n",
    "#y con los dos operandos como strings tampoco arroja error, pero como son cadenas de texto los numeros se unen\n",
    "calculo = str(2) + '2'\n",
    "print(calculo)"
   ]
  },
  {
   "cell_type": "markdown",
   "metadata": {},
   "source": [
    "22) Crear una variable que contenga un menú con los elementos '1 - Pizza', '2 - Empanadas', '3 - Milanesas', '4 - Salir', y luego mostrarlo por pantalla"
   ]
  },
  {
   "cell_type": "code",
   "execution_count": 28,
   "metadata": {},
   "outputs": [
    {
     "name": "stdout",
     "output_type": "stream",
     "text": [
      " \n",
      "1 - Pizza\n",
      "2 - Empanadas\n",
      "3 - Milanesas\n",
      "4 - Salir\n",
      "\n"
     ]
    }
   ],
   "source": [
    "menu = \"\"\" \n",
    "1 - Pizza\n",
    "2 - Empanadas\n",
    "3 - Milanesas\n",
    "4 - Salir\n",
    "\"\"\"\n",
    "print(menu)"
   ]
  },
  {
   "cell_type": "markdown",
   "metadata": {},
   "source": [
    "23) Crear una lista que contenga los números del 1 al 10"
   ]
  },
  {
   "cell_type": "code",
   "execution_count": 29,
   "metadata": {},
   "outputs": [],
   "source": [
    "lista = [1, 2, 3, 4, 5, 6, 7, 8, 9, 10]"
   ]
  },
  {
   "cell_type": "markdown",
   "metadata": {},
   "source": [
    "24) Imprimir el penultimo elemento de la lista creada en el punto 22"
   ]
  },
  {
   "cell_type": "code",
   "execution_count": 30,
   "metadata": {},
   "outputs": [
    {
     "name": "stdout",
     "output_type": "stream",
     "text": [
      "9\n"
     ]
    }
   ],
   "source": [
    "print(lista[-2])"
   ]
  },
  {
   "cell_type": "markdown",
   "metadata": {},
   "source": [
    "25) Modificar el tercer elemento de la lista creada en el punto 22 poniendo tu nombre"
   ]
  },
  {
   "cell_type": "code",
   "execution_count": 55,
   "metadata": {},
   "outputs": [
    {
     "name": "stdout",
     "output_type": "stream",
     "text": [
      "[1, 2, 'Valentina', 'Valentina', 5, 6, 7, 8, 9, 10]\n"
     ]
    }
   ],
   "source": [
    "lista[2] = \"Valentina\"\n",
    "print(lista)"
   ]
  },
  {
   "cell_type": "markdown",
   "metadata": {},
   "source": [
    "26) Construir una matriz de 3x3 que contenga las letras A, B, C, D, E, F, G, H, I"
   ]
  },
  {
   "cell_type": "code",
   "execution_count": 33,
   "metadata": {},
   "outputs": [],
   "source": [
    "matriz = [[\"A\", \"B\", \"C\"], [\"D\", \"E\", \"F\"], [\"G\", \"H\", \"I\"]]"
   ]
  },
  {
   "cell_type": "markdown",
   "metadata": {},
   "source": [
    "27) Imprimir la matriz creada en el punto 26"
   ]
  },
  {
   "cell_type": "code",
   "execution_count": 34,
   "metadata": {},
   "outputs": [
    {
     "name": "stdout",
     "output_type": "stream",
     "text": [
      "[['A', 'B', 'C'], ['D', 'E', 'F'], ['G', 'H', 'I']]\n"
     ]
    }
   ],
   "source": [
    "print(matriz)"
   ]
  },
  {
   "cell_type": "markdown",
   "metadata": {},
   "source": [
    "28) Modificar la letra E de la matriz y colocar la letra Z"
   ]
  },
  {
   "cell_type": "code",
   "execution_count": 35,
   "metadata": {},
   "outputs": [
    {
     "name": "stdout",
     "output_type": "stream",
     "text": [
      "[['A', 'B', 'C'], ['D', 'Z', 'F'], ['G', 'H', 'I']]\n"
     ]
    }
   ],
   "source": [
    "matriz[1][1] = \"Z\"\n",
    "print(matriz)"
   ]
  },
  {
   "cell_type": "markdown",
   "metadata": {},
   "source": [
    "29) Cambiar las primeras 3 letras de la matriz por los números 1, 2 y 3"
   ]
  },
  {
   "cell_type": "code",
   "execution_count": 36,
   "metadata": {},
   "outputs": [
    {
     "name": "stdout",
     "output_type": "stream",
     "text": [
      "[[1, 2, 3], ['D', 'Z', 'F'], ['G', 'H', 'I']]\n"
     ]
    }
   ],
   "source": [
    "matriz[0] = [1, 2, 3]\n",
    "print(matriz)"
   ]
  },
  {
   "cell_type": "markdown",
   "metadata": {},
   "source": [
    "30) Crear una tupla que contenga 5 marcas de ropa"
   ]
  },
  {
   "cell_type": "code",
   "execution_count": 38,
   "metadata": {},
   "outputs": [],
   "source": [
    "tupla = tuple()\n",
    "mi_tupla = (\"Adidas\", \"Nike\", \"Old Navy\", \"Under Armour\", \"Reebok\")"
   ]
  },
  {
   "cell_type": "markdown",
   "metadata": {},
   "source": [
    "31) Imprimir el primer elemento de la tupla creada en el punto 30"
   ]
  },
  {
   "cell_type": "code",
   "execution_count": 43,
   "metadata": {},
   "outputs": [
    {
     "name": "stdout",
     "output_type": "stream",
     "text": [
      "Adidas\n"
     ]
    }
   ],
   "source": [
    "print(mi_tupla[0])"
   ]
  },
  {
   "cell_type": "markdown",
   "metadata": {},
   "source": [
    "32) Intenta modificar el segundo elemento de la tupla. ¿Por qué no se puede?"
   ]
  },
  {
   "cell_type": "code",
   "execution_count": 47,
   "metadata": {},
   "outputs": [],
   "source": [
    "tupla = tuple()\n",
    "mi_tupla[1] = \"Puma\"\n",
    "#no se puede porque las tuplas no se pueden modificar\n"
   ]
  },
  {
   "cell_type": "markdown",
   "metadata": {},
   "source": [
    "33) Crear un diccionario que contenga las claves 'nombre', 'apellido', 'edad' y 'hobbies' y asignarle los valores correspondientes (los hobbies deben ser una lista con al menos 3 elementos)"
   ]
  },
  {
   "cell_type": "code",
   "execution_count": 49,
   "metadata": {},
   "outputs": [],
   "source": [
    "diccionario_1 = {\"Nombre\":\"Valentina\", \"Apellido\":\"Martini\", \"Edad\":18, \"Hobbies\":\"Escuchar música\"}"
   ]
  },
  {
   "cell_type": "markdown",
   "metadata": {},
   "source": [
    "34) Imprimir el valor de la clave 'hobbies' del diccionario creado en el punto anterior"
   ]
  },
  {
   "cell_type": "code",
   "execution_count": 50,
   "metadata": {},
   "outputs": [
    {
     "name": "stdout",
     "output_type": "stream",
     "text": [
      "Escuchar música\n"
     ]
    }
   ],
   "source": [
    "print(diccionario_1[\"Hobbies\"])"
   ]
  },
  {
   "cell_type": "markdown",
   "metadata": {},
   "source": [
    "35) Modificar el valor de la clave 'edad' del diccionario y mostrarlo por pantalla"
   ]
  },
  {
   "cell_type": "code",
   "execution_count": 51,
   "metadata": {},
   "outputs": [
    {
     "name": "stdout",
     "output_type": "stream",
     "text": [
      "{'Nombre': 'Valentina', 'Apellido': 'Martini', 'Edad': 20, 'Hobbies': 'Escuchar música'}\n"
     ]
    }
   ],
   "source": [
    "diccionario_1[\"Edad\"] = 20\n",
    "print(diccionario_1)"
   ]
  }
 ],
 "metadata": {
  "interpreter": {
   "hash": "c85384e4cb51c8b72350f3a8712cc8351fdc3955e32a27f9b60c6242ab125f01"
  },
  "kernelspec": {
   "display_name": "Python 3 (ipykernel)",
   "language": "python",
   "name": "python3"
  },
  "language_info": {
   "codemirror_mode": {
    "name": "ipython",
    "version": 3
   },
   "file_extension": ".py",
   "mimetype": "text/x-python",
   "name": "python",
   "nbconvert_exporter": "python",
   "pygments_lexer": "ipython3",
   "version": "3.12.0"
  }
 },
 "nbformat": 4,
 "nbformat_minor": 4
}
